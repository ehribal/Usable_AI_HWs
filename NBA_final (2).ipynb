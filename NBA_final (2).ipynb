{
  "nbformat": 4,
  "nbformat_minor": 0,
  "metadata": {
    "colab": {
      "name": "NBA final.ipynb",
      "provenance": [],
      "collapsed_sections": []
    },
    "kernelspec": {
      "name": "python3",
      "display_name": "Python 3"
    },
    "language_info": {
      "name": "python"
    }
  },
  "cells": [
    {
      "cell_type": "code",
      "metadata": {
        "id": "-8yjBxWPa-Lq"
      },
      "source": [
        "import numpy as np\n",
        "import pandas as pd"
      ],
      "execution_count": 47,
      "outputs": []
    },
    {
      "cell_type": "code",
      "metadata": {
        "colab": {
          "base_uri": "https://localhost:8080/"
        },
        "id": "0wduzublbWD7",
        "outputId": "e811dc7e-db30-4470-a6bc-085590153005"
      },
      "source": [
        "from google.colab import drive\n",
        "drive.mount('/content/gdrive/')"
      ],
      "execution_count": 48,
      "outputs": [
        {
          "output_type": "stream",
          "text": [
            "Drive already mounted at /content/gdrive/; to attempt to forcibly remount, call drive.mount(\"/content/gdrive/\", force_remount=True).\n"
          ],
          "name": "stdout"
        }
      ]
    },
    {
      "cell_type": "markdown",
      "metadata": {
        "id": "Fra_YDj_sLXV"
      },
      "source": [
        "Getting NBA Betting Data From 2009-2021"
      ]
    },
    {
      "cell_type": "code",
      "metadata": {
        "id": "uW35WUmDbWNw"
      },
      "source": [
        "nba_data_09to21 = pd.read_csv(\"/content/gdrive/MyDrive/I413/nba_odds_2009_10.csv\")\n",
        "nba_data_09to21 = nba_data_09to21.loc[:, ~nba_data_09to21.columns.str.startswith('Unnamed')]\n",
        "years = [\"2010_11\",\"2011_12\",\"2012_13\",\"2013_14\",\"2014_15\",\"2015_16\",\"2016_17\",\"2017_18\"]\n",
        "for year in years:\n",
        "  nba_data = pd.read_csv(\"/content/gdrive/MyDrive/I413/nba_odds_\"+year+\".csv\")\n",
        "  nba_data = nba_data.loc[:, ~nba_data.columns.str.startswith('Unnamed')]\n",
        "  nba_data_09to21 = pd.concat([nba_data_09to21,nba_data])"
      ],
      "execution_count": 49,
      "outputs": []
    },
    {
      "cell_type": "code",
      "metadata": {
        "id": "xdCv4gZ9bWUV"
      },
      "source": [
        "nba_data_3 = pd.read_csv(\"/content/gdrive/MyDrive/I413/nba_odds_2018_19.csv\")\n",
        "nba_data_09to21 = pd.concat([nba_data_09to21,nba_data_3.loc[:2623,:]])"
      ],
      "execution_count": 50,
      "outputs": []
    },
    {
      "cell_type": "code",
      "metadata": {
        "id": "poLHIkJ4bWYx"
      },
      "source": [
        "nba_data_4 = pd.read_csv(\"/content/gdrive/MyDrive/I413/nba_odds_2019_20.csv\")\n",
        "nba_data_09to21 = pd.concat([nba_data_09to21,nba_data_4])"
      ],
      "execution_count": 51,
      "outputs": []
    },
    {
      "cell_type": "code",
      "metadata": {
        "id": "7V_aNLvfbWcK"
      },
      "source": [
        "nba_data_5 = pd.read_csv(\"/content/gdrive/MyDrive/I413/nba_odds_2020_21.csv\")\n",
        "nba_data_09to21 = pd.concat([nba_data_09to21,nba_data_5.loc[:1251,:]])"
      ],
      "execution_count": 52,
      "outputs": []
    },
    {
      "cell_type": "code",
      "metadata": {
        "id": "iCw9aM4SbWfD"
      },
      "source": [
        "nba_data_09to21.reset_index(inplace=True)"
      ],
      "execution_count": 53,
      "outputs": []
    },
    {
      "cell_type": "code",
      "metadata": {
        "id": "uYOu6VB7hVOO"
      },
      "source": [
        "nba_data_09to21.drop(columns=[\"index\"],inplace=True)"
      ],
      "execution_count": 54,
      "outputs": []
    },
    {
      "cell_type": "code",
      "metadata": {
        "colab": {
          "base_uri": "https://localhost:8080/",
          "height": 402
        },
        "id": "bjg4aVraAY8D",
        "outputId": "533d7b46-6138-4de2-aa35-6b6718a08e1a"
      },
      "source": [
        "nba_data_09to21"
      ],
      "execution_count": 55,
      "outputs": [
        {
          "output_type": "execute_result",
          "data": {
            "text/html": [
              "<div>\n",
              "<style scoped>\n",
              "    .dataframe tbody tr th:only-of-type {\n",
              "        vertical-align: middle;\n",
              "    }\n",
              "\n",
              "    .dataframe tbody tr th {\n",
              "        vertical-align: top;\n",
              "    }\n",
              "\n",
              "    .dataframe thead th {\n",
              "        text-align: right;\n",
              "    }\n",
              "</style>\n",
              "<table border=\"1\" class=\"dataframe\">\n",
              "  <thead>\n",
              "    <tr style=\"text-align: right;\">\n",
              "      <th></th>\n",
              "      <th>Date</th>\n",
              "      <th>Rot</th>\n",
              "      <th>VH</th>\n",
              "      <th>Team</th>\n",
              "      <th>1st</th>\n",
              "      <th>2nd</th>\n",
              "      <th>3rd</th>\n",
              "      <th>4th</th>\n",
              "      <th>Final</th>\n",
              "      <th>Open</th>\n",
              "      <th>Close</th>\n",
              "      <th>ML</th>\n",
              "      <th>2H</th>\n",
              "      <th>Year</th>\n",
              "    </tr>\n",
              "  </thead>\n",
              "  <tbody>\n",
              "    <tr>\n",
              "      <th>0</th>\n",
              "      <td>1027</td>\n",
              "      <td>501</td>\n",
              "      <td>V</td>\n",
              "      <td>Boston</td>\n",
              "      <td>21</td>\n",
              "      <td>30</td>\n",
              "      <td>21</td>\n",
              "      <td>23</td>\n",
              "      <td>95</td>\n",
              "      <td>187.5</td>\n",
              "      <td>183.5</td>\n",
              "      <td>170.0</td>\n",
              "      <td>90.5</td>\n",
              "      <td>2009</td>\n",
              "    </tr>\n",
              "    <tr>\n",
              "      <th>1</th>\n",
              "      <td>1027</td>\n",
              "      <td>502</td>\n",
              "      <td>H</td>\n",
              "      <td>Cleveland</td>\n",
              "      <td>28</td>\n",
              "      <td>17</td>\n",
              "      <td>20</td>\n",
              "      <td>24</td>\n",
              "      <td>89</td>\n",
              "      <td>4.5</td>\n",
              "      <td>5</td>\n",
              "      <td>-200.0</td>\n",
              "      <td>4.5</td>\n",
              "      <td>2009</td>\n",
              "    </tr>\n",
              "    <tr>\n",
              "      <th>2</th>\n",
              "      <td>1027</td>\n",
              "      <td>503</td>\n",
              "      <td>V</td>\n",
              "      <td>Washington</td>\n",
              "      <td>21</td>\n",
              "      <td>35</td>\n",
              "      <td>21</td>\n",
              "      <td>25</td>\n",
              "      <td>102</td>\n",
              "      <td>205</td>\n",
              "      <td>210</td>\n",
              "      <td>320.0</td>\n",
              "      <td>107</td>\n",
              "      <td>2009</td>\n",
              "    </tr>\n",
              "    <tr>\n",
              "      <th>3</th>\n",
              "      <td>1027</td>\n",
              "      <td>504</td>\n",
              "      <td>H</td>\n",
              "      <td>Dallas</td>\n",
              "      <td>21</td>\n",
              "      <td>29</td>\n",
              "      <td>24</td>\n",
              "      <td>17</td>\n",
              "      <td>91</td>\n",
              "      <td>8.5</td>\n",
              "      <td>8.5</td>\n",
              "      <td>-400.0</td>\n",
              "      <td>8</td>\n",
              "      <td>2009</td>\n",
              "    </tr>\n",
              "    <tr>\n",
              "      <th>4</th>\n",
              "      <td>1027</td>\n",
              "      <td>505</td>\n",
              "      <td>V</td>\n",
              "      <td>Houston</td>\n",
              "      <td>23</td>\n",
              "      <td>18</td>\n",
              "      <td>15</td>\n",
              "      <td>31</td>\n",
              "      <td>87</td>\n",
              "      <td>187.5</td>\n",
              "      <td>188</td>\n",
              "      <td>400.0</td>\n",
              "      <td>93.5</td>\n",
              "      <td>2009</td>\n",
              "    </tr>\n",
              "    <tr>\n",
              "      <th>...</th>\n",
              "      <td>...</td>\n",
              "      <td>...</td>\n",
              "      <td>...</td>\n",
              "      <td>...</td>\n",
              "      <td>...</td>\n",
              "      <td>...</td>\n",
              "      <td>...</td>\n",
              "      <td>...</td>\n",
              "      <td>...</td>\n",
              "      <td>...</td>\n",
              "      <td>...</td>\n",
              "      <td>...</td>\n",
              "      <td>...</td>\n",
              "      <td>...</td>\n",
              "    </tr>\n",
              "    <tr>\n",
              "      <th>29313</th>\n",
              "      <td>321</td>\n",
              "      <td>526</td>\n",
              "      <td>H</td>\n",
              "      <td>NewYork</td>\n",
              "      <td>15</td>\n",
              "      <td>27</td>\n",
              "      <td>22</td>\n",
              "      <td>24</td>\n",
              "      <td>100</td>\n",
              "      <td>215</td>\n",
              "      <td>211.5</td>\n",
              "      <td>105.0</td>\n",
              "      <td>102</td>\n",
              "      <td>2021</td>\n",
              "    </tr>\n",
              "    <tr>\n",
              "      <th>29314</th>\n",
              "      <td>321</td>\n",
              "      <td>527</td>\n",
              "      <td>V</td>\n",
              "      <td>LALakers</td>\n",
              "      <td>26</td>\n",
              "      <td>18</td>\n",
              "      <td>32</td>\n",
              "      <td>18</td>\n",
              "      <td>94</td>\n",
              "      <td>216</td>\n",
              "      <td>217</td>\n",
              "      <td>425.0</td>\n",
              "      <td>104.5</td>\n",
              "      <td>2021</td>\n",
              "    </tr>\n",
              "    <tr>\n",
              "      <th>29315</th>\n",
              "      <td>321</td>\n",
              "      <td>528</td>\n",
              "      <td>H</td>\n",
              "      <td>Phoenix</td>\n",
              "      <td>31</td>\n",
              "      <td>28</td>\n",
              "      <td>29</td>\n",
              "      <td>23</td>\n",
              "      <td>111</td>\n",
              "      <td>3</td>\n",
              "      <td>10</td>\n",
              "      <td>-550.0</td>\n",
              "      <td>1.5</td>\n",
              "      <td>2021</td>\n",
              "    </tr>\n",
              "    <tr>\n",
              "      <th>29316</th>\n",
              "      <td>321</td>\n",
              "      <td>529</td>\n",
              "      <td>V</td>\n",
              "      <td>Dallas</td>\n",
              "      <td>27</td>\n",
              "      <td>38</td>\n",
              "      <td>38</td>\n",
              "      <td>29</td>\n",
              "      <td>132</td>\n",
              "      <td>2.5</td>\n",
              "      <td>2</td>\n",
              "      <td>-130.0</td>\n",
              "      <td>112</td>\n",
              "      <td>2021</td>\n",
              "    </tr>\n",
              "    <tr>\n",
              "      <th>29317</th>\n",
              "      <td>321</td>\n",
              "      <td>530</td>\n",
              "      <td>H</td>\n",
              "      <td>Portland</td>\n",
              "      <td>30</td>\n",
              "      <td>24</td>\n",
              "      <td>15</td>\n",
              "      <td>23</td>\n",
              "      <td>92</td>\n",
              "      <td>230.5</td>\n",
              "      <td>227</td>\n",
              "      <td>110.0</td>\n",
              "      <td>2.5</td>\n",
              "      <td>2021</td>\n",
              "    </tr>\n",
              "  </tbody>\n",
              "</table>\n",
              "<p>29318 rows × 14 columns</p>\n",
              "</div>"
            ],
            "text/plain": [
              "       Date  Rot VH        Team  1st  2nd  3rd  4th  Final   Open  Close  \\\n",
              "0      1027  501  V      Boston   21   30   21   23     95  187.5  183.5   \n",
              "1      1027  502  H   Cleveland   28   17   20   24     89    4.5      5   \n",
              "2      1027  503  V  Washington   21   35   21   25    102    205    210   \n",
              "3      1027  504  H      Dallas   21   29   24   17     91    8.5    8.5   \n",
              "4      1027  505  V     Houston   23   18   15   31     87  187.5    188   \n",
              "...     ...  ... ..         ...  ...  ...  ...  ...    ...    ...    ...   \n",
              "29313   321  526  H     NewYork   15   27   22   24    100    215  211.5   \n",
              "29314   321  527  V    LALakers   26   18   32   18     94    216    217   \n",
              "29315   321  528  H     Phoenix   31   28   29   23    111      3     10   \n",
              "29316   321  529  V      Dallas   27   38   38   29    132    2.5      2   \n",
              "29317   321  530  H    Portland   30   24   15   23     92  230.5    227   \n",
              "\n",
              "          ML     2H  Year  \n",
              "0      170.0   90.5  2009  \n",
              "1     -200.0    4.5  2009  \n",
              "2      320.0    107  2009  \n",
              "3     -400.0      8  2009  \n",
              "4      400.0   93.5  2009  \n",
              "...      ...    ...   ...  \n",
              "29313  105.0    102  2021  \n",
              "29314  425.0  104.5  2021  \n",
              "29315 -550.0    1.5  2021  \n",
              "29316 -130.0    112  2021  \n",
              "29317  110.0    2.5  2021  \n",
              "\n",
              "[29318 rows x 14 columns]"
            ]
          },
          "metadata": {
            "tags": []
          },
          "execution_count": 55
        }
      ]
    },
    {
      "cell_type": "code",
      "metadata": {
        "id": "w7Q_KvH8_joF"
      },
      "source": [
        "team_to_abb = {\"Atlanta\":\"ATL\",\"Boston\":\"BOS\",\"Cleveland\":\"CLE\",\"NewOrleans\":\"NOP\",\"Chicago\":\"CHI\",\"Dallas\":\"DAL\", \"Denver\":\"DEN\", \"GoldenState\":\"GSW\",\"Houston\":\"HOU\", \"LAClippers\":\"LAC\",\"LA Clippers\":\"LAC\",\"LALakers\":\"LAL\",\"Miami\":\"MIA\",\"Milwaukee\":\"MIL\",\"Minnesota\":\"MIN\",\"Brooklyn\":\"BKN\",\"NewYork\":\"NYK\",\"Orlando\":\"ORL\",\"Indiana\":\"IND\",\"Philadelphia\":\"PHI\",\"Phoenix\":\"PHX\",\"Portland\":\"POR\",\"Sacramento\":\"SAC\",\"SanAntonio\":\"SAS\",\"OklahomaCity\":\"OKC\",\"Oklahoma City\":\"OKC\",\"Toronto\":\"TOR\",\"Utah\":\"UTA\",\"Memphis\":\"MEM\",\"Washington\":\"WAS\",\"Detroit\":\"DET\",\"Charlotte\":\"CHA\",\"NewJersey\":\"BKN\"}"
      ],
      "execution_count": 56,
      "outputs": []
    },
    {
      "cell_type": "code",
      "metadata": {
        "id": "7NcleIVN_C3G"
      },
      "source": [
        "team_abb = []\n",
        "for index, row in nba_data_09to21.iterrows():\n",
        "  abb = team_to_abb[row[3]]\n",
        "  team_abb.append(abb)"
      ],
      "execution_count": 57,
      "outputs": []
    },
    {
      "cell_type": "code",
      "metadata": {
        "id": "v17TaSd1A-Iu"
      },
      "source": [
        "nba_data_09to21[\"team_abb\"] = team_abb"
      ],
      "execution_count": 58,
      "outputs": []
    },
    {
      "cell_type": "code",
      "metadata": {
        "id": "0PJ7I3ymBFGF"
      },
      "source": [
        "game_team_id = []\n",
        "\n",
        "for index, row in nba_data_09to21.iterrows():\n",
        "  unique_id = str(row[0])+str(row[\"team_abb\"])+str(row[\"Year\"])\n",
        "  game_team_id.append(unique_id)"
      ],
      "execution_count": 60,
      "outputs": []
    },
    {
      "cell_type": "code",
      "metadata": {
        "id": "dOgkG3RWBbgH"
      },
      "source": [
        "nba_data_09to21[\"game_team_id\"] = game_team_id"
      ],
      "execution_count": 61,
      "outputs": []
    },
    {
      "cell_type": "markdown",
      "metadata": {
        "id": "kjZQIV6vspoO"
      },
      "source": [
        "Getting NBA box scores 2009 to 2021"
      ]
    },
    {
      "cell_type": "code",
      "metadata": {
        "id": "r3WF0BNVtIBm"
      },
      "source": [
        "nba_gamelogs_09to21 = pd.read_csv(\"/content/gdrive/MyDrive/I413/nba_gamelogs_09to21.csv\")"
      ],
      "execution_count": null,
      "outputs": []
    },
    {
      "cell_type": "code",
      "metadata": {
        "id": "rXMarbWihVRY"
      },
      "source": [
        "nba_gamelogs_09to21"
      ],
      "execution_count": null,
      "outputs": []
    },
    {
      "cell_type": "code",
      "metadata": {
        "id": "9BWqEBz1hVUR"
      },
      "source": [
        ""
      ],
      "execution_count": null,
      "outputs": []
    },
    {
      "cell_type": "markdown",
      "metadata": {
        "id": "hNrFtHN0B8I9"
      },
      "source": [
        "Merging The Betting Data and Game Stats for each game (SKIP TO BOTTOM FOR USABLE DATA)"
      ]
    },
    {
      "cell_type": "code",
      "metadata": {
        "id": "bzEZuJyNDHoL"
      },
      "source": [
        "pd.set_option('max_columns', None)\n",
        "pd.set_option('max_rows', 30)"
      ],
      "execution_count": null,
      "outputs": []
    },
    {
      "cell_type": "code",
      "metadata": {
        "id": "VhT_O2L3tUX9"
      },
      "source": [
        "#nba_merged_09to21 = pd.merge(nba_data_09to21,nba_gamelogs_09to21,how=\"inner\",on=\"game_team_id\")"
      ],
      "execution_count": null,
      "outputs": []
    },
    {
      "cell_type": "code",
      "metadata": {
        "id": "0Km7WAoatUeC"
      },
      "source": [
        "#nba_merged_09to21"
      ],
      "execution_count": null,
      "outputs": []
    },
    {
      "cell_type": "code",
      "metadata": {
        "id": "G8f1BrmQmMIc"
      },
      "source": [
        "#nba_merged_09to21[\"G\"] = nba_merged_09to21[\"W\"] + nba_merged_09to21[\"L\"]"
      ],
      "execution_count": null,
      "outputs": []
    },
    {
      "cell_type": "code",
      "metadata": {
        "id": "soeoGC2ctUjZ"
      },
      "source": [
        "# nba_merged_09to21[\"FGM_avg\"] = np.nan\n",
        "# nba_merged_09to21[\"FGA_avg\"] = np.nan\n",
        "# nba_merged_09to21[\"FG_PCT_avg\"] = np.nan\n",
        "# nba_merged_09to21[\"FG3M_avg\"] = np.nan\n",
        "# nba_merged_09to21[\"FG3A_avg\"] = np.nan\n",
        "# nba_merged_09to21[\"FG3_PCT_avg\"] = np.nan\n",
        "# nba_merged_09to21[\"FTM_avg\"] = np.nan\n",
        "# nba_merged_09to21[\"FTA_avg\"] = np.nan\n",
        "# nba_merged_09to21[\"FT_PCT_avg\"] = np.nan\n",
        "# nba_merged_09to21[\"OREB_avg\"] = np.nan\n",
        "# nba_merged_09to21[\"DREB_avg\"] = np.nan\n",
        "# nba_merged_09to21[\"REB_avg\"] = np.nan\n",
        "# nba_merged_09to21[\"AST_avg\"] = np.nan\n",
        "# nba_merged_09to21[\"STL_avg\"] = np.nan\n",
        "# nba_merged_09to21[\"BLK_avg\"] = np.nan\n",
        "# nba_merged_09to21[\"TOV_avg\"] = np.nan\n",
        "# nba_merged_09to21[\"PF_avg\"] = np.nan\n",
        "# nba_merged_09to21[\"PTS_avg\"] = np.nan"
      ],
      "execution_count": null,
      "outputs": []
    },
    {
      "cell_type": "code",
      "metadata": {
        "id": "YURLixQetjpP"
      },
      "source": [
        "#team_to_abb.values()"
      ],
      "execution_count": null,
      "outputs": []
    },
    {
      "cell_type": "code",
      "metadata": {
        "id": "Oql8TM9WpoW4"
      },
      "source": [
        "# team_list = [\"ATL\",\"BOS\",\"CLE\",\"NOP\",\"CHI\",\"DAL\",\"DEN\",\"GSW\",\"HOU\",\"LAC\",\"LAL\",\"MIA\",\"MIL\",\"MIN\",\"BKN\",\"NYK\",\"ORL\",\"IND\",\"PHI\",\"PHX\",\"POR\",\"SAC\",\"SAS\",\"OKC\",\"TOR\",\"UTA\",\"MEM\",\"WAS\",\"DET\",\"CHA\"]\n",
        "\n",
        "\n",
        "\n",
        "# for team in team_list:\n",
        "#   temp_df = nba_merged_09to21[nba_merged_09to21[\"team_abb\"] == team]\n",
        "#   FGM_avg = []\n",
        "#   FGA_avg = []\n",
        "#   FG_PCT_avg = []\n",
        "#   FG3M_avg = []\n",
        "#   FG3A_avg = []\n",
        "#   FG3_PCT_avg = []\n",
        "#   FTM_avg = []\n",
        "#   FTA_avg = []\n",
        "#   FT_PCT_avg = []\n",
        "#   OREB_avg = []\n",
        "#   DREB_avg = []\n",
        "#   REB_avg = []\n",
        "#   AST_avg = []\n",
        "#   STL_avg = []\n",
        "#   BLK_avg =[]\n",
        "#   TOV_avg = []\n",
        "#   PF_avg = []\n",
        "#   PTS_avg = []\n",
        "#   for index, row in temp_df.iterrows():\n",
        "#     if row[\"G\"] == 1:\n",
        "#       FGM_avg = []\n",
        "#       FGA_avg = []\n",
        "#       FG_PCT_avg = []\n",
        "#       FG3M_avg = []\n",
        "#       FG3A_avg = []\n",
        "#       FG3_PCT_avg = []\n",
        "#       FTM_avg = []\n",
        "#       FTA_avg = []\n",
        "#       FT_PCT_avg = []\n",
        "#       OREB_avg = []\n",
        "#       DREB_avg = []\n",
        "#       REB_avg = []\n",
        "#       AST_avg = []\n",
        "#       STL_avg = []\n",
        "#       BLK_avg =[]\n",
        "#       TOV_avg = []\n",
        "#       PF_avg = []\n",
        "#       PTS_avg = []\n",
        "#     else:\n",
        "#       nba_merged_09to21.loc[index,\"FGM_avg\"] = np.mean(FGM_avg)\n",
        "#       nba_merged_09to21.loc[index,\"FGA_avg\"] = np.mean(FGA_avg)\n",
        "#       nba_merged_09to21.loc[index,\"FG_PCT_avg\"] = np.mean(FG_PCT_avg)\n",
        "#       nba_merged_09to21.loc[index,\"FG3M_avg\"] = np.mean(FG3M_avg)\n",
        "#       nba_merged_09to21.loc[index,\"FG3A_avg\"] = np.mean(FG3A_avg)\n",
        "#       nba_merged_09to21.loc[index,\"FG3_PCT_avg\"] = np.mean(FG3_PCT_avg)\n",
        "#       nba_merged_09to21.loc[index,\"FTM_avg\"] = np.mean(FTM_avg)\n",
        "#       nba_merged_09to21.loc[index,\"FTA_avg\"] = np.mean(FTA_avg)\n",
        "#       nba_merged_09to21.loc[index,\"FT_PCT_avg\"] = np.mean(FT_PCT_avg)\n",
        "#       nba_merged_09to21.loc[index,\"OREB_avg\"] = np.mean(OREB_avg)\n",
        "#       nba_merged_09to21.loc[index,\"DREB_avg\"] = np.mean(DREB_avg)\n",
        "#       nba_merged_09to21.loc[index,\"REB_avg\"] = np.mean(REB_avg)\n",
        "#       nba_merged_09to21.loc[index,\"AST_avg\"] = np.mean(AST_avg)\n",
        "#       nba_merged_09to21.loc[index,\"STL_avg\"] = np.mean(STL_avg)\n",
        "#       nba_merged_09to21.loc[index,\"BLK_avg\"] = np.mean(BLK_avg)\n",
        "#       nba_merged_09to21.loc[index,\"TOV_avg\"] = np.mean(TOV_avg)\n",
        "#       nba_merged_09to21.loc[index,\"PF_avg\"] = np.mean(PF_avg)\n",
        "#       nba_merged_09to21.loc[index,\"PTS_avg\"] = np.mean(PTS_avg)\n",
        "#     FGM_avg.append(row[\"FGM\"])\n",
        "#     FGA_avg.append(row[\"FGA\"])\n",
        "#     FG_PCT_avg.append(row[\"FG_PCT\"])\n",
        "#     FG3M_avg.append(row[\"FG3M\"])\n",
        "#     FG3A_avg.append(row[\"FG3A\"])\n",
        "#     FG3_PCT_avg.append(row[\"FG3_PCT\"])\n",
        "#     FTM_avg.append(row[\"FTM\"])\n",
        "#     FTA_avg.append(row[\"FTA\"])\n",
        "#     FT_PCT_avg.append(row[\"FT_PCT\"])\n",
        "#     OREB_avg.append(row[\"OREB\"])\n",
        "#     DREB_avg.append(row[\"DREB\"])\n",
        "#     REB_avg.append(row[\"REB\"])\n",
        "#     AST_avg.append(row[\"AST\"])\n",
        "#     STL_avg.append(row[\"STL\"])\n",
        "#     BLK_avg.append(row[\"BLK\"])\n",
        "#     TOV_avg.append(row[\"TOV\"])\n",
        "#     PF_avg.append(row[\"PF\"])\n",
        "#     PTS_avg.append(row[\"PTS\"])\n",
        "\n",
        "\n"
      ],
      "execution_count": null,
      "outputs": []
    },
    {
      "cell_type": "code",
      "metadata": {
        "id": "20lG0Vk_3Gkz"
      },
      "source": [
        "# prediction = []\n",
        "# for index, row in nba_merged_09to21.iterrows():\n",
        "#   if row[\"ML\"] > 0:\n",
        "#     prediction.append(0)\n",
        "#   else:\n",
        "#     prediction.append(1)"
      ],
      "execution_count": null,
      "outputs": []
    },
    {
      "cell_type": "code",
      "metadata": {
        "id": "JK57Ojaz3VuN"
      },
      "source": [
        "#nba_merged_09to21[\"prediction\"] = prediction"
      ],
      "execution_count": null,
      "outputs": []
    },
    {
      "cell_type": "code",
      "metadata": {
        "id": "iKyUZQmo98Kr"
      },
      "source": [
        "# win = []\n",
        "\n",
        "# for index, row in nba_merged_09to21.iterrows():\n",
        "#   if row[\"WL\"] == \"W\":\n",
        "#     win.append(1)\n",
        "#   else:\n",
        "#     win.append(0)"
      ],
      "execution_count": null,
      "outputs": []
    },
    {
      "cell_type": "code",
      "metadata": {
        "id": "YmZmDY-_99Qh"
      },
      "source": [
        "#nba_merged_09to21[\"Win?\"] = win"
      ],
      "execution_count": null,
      "outputs": []
    },
    {
      "cell_type": "code",
      "metadata": {
        "id": "uBpOgVAVp_mM"
      },
      "source": [
        "# nba_merged_09to21.to_csv(\"./nba_betting_gamelogs_09to21.csv\",index=False)\n",
        "\n",
        "# from google.colab import files\n",
        "# files.download(\"nba_betting_gamelogs_09to21.csv\")"
      ],
      "execution_count": null,
      "outputs": []
    },
    {
      "cell_type": "markdown",
      "metadata": {
        "id": "07JFBpLW1TBI"
      },
      "source": [
        "SKIP TO HERE"
      ]
    },
    {
      "cell_type": "code",
      "metadata": {
        "id": "sKdNRsWx1U0i"
      },
      "source": [
        "nba_betting_gamelogs_09to21 = pd.read_csv(\"/content/gdrive/MyDrive/I413/nba_betting_gamelogs_09to21.csv\")"
      ],
      "execution_count": null,
      "outputs": []
    },
    {
      "cell_type": "code",
      "metadata": {
        "id": "PpIRzrZNFhbM"
      },
      "source": [
        "from sklearn.tree import DecisionTreeClassifier\n",
        "from sklearn.model_selection import train_test_split\n",
        "from sklearn.preprocessing import StandardScaler\n",
        "from sklearn.linear_model import LogisticRegression\n",
        "from sklearn.metrics import accuracy_score\n",
        "from sklearn.metrics import confusion_matrix\n",
        "from sklearn.metrics import classification_report\n",
        "from sklearn.metrics import roc_curve\n",
        "import matplotlib.pyplot as plt"
      ],
      "execution_count": null,
      "outputs": []
    },
    {
      "cell_type": "code",
      "metadata": {
        "id": "xGeFQ4E-1U5W"
      },
      "source": [
        "nba_betting_gamelogs_09to21.dropna(inplace=True)"
      ],
      "execution_count": null,
      "outputs": []
    },
    {
      "cell_type": "code",
      "metadata": {
        "id": "sRJr8RWyEXzv"
      },
      "source": [
        ""
      ],
      "execution_count": null,
      "outputs": []
    },
    {
      "cell_type": "code",
      "metadata": {
        "id": "tsV0NciH1U_u"
      },
      "source": [
        "X = nba_betting_gamelogs_09to21.loc[:,[\"W_PCT\",\"FGM_avg\",\"FG_PCT_avg\",\"FG3M_avg\",\"FG3_PCT_avg\",\"FTM_avg\",\"DREB_avg\",\"AST_avg\",\"BLK_avg\",\"PTS_avg\"]]\n",
        "y = nba_betting_gamelogs_09to21[\"Win?\"]"
      ],
      "execution_count": null,
      "outputs": []
    },
    {
      "cell_type": "code",
      "metadata": {
        "id": "tply6tra3CqL"
      },
      "source": [
        "sc.fit(X)\n",
        "X_std = sc.transform(X)"
      ],
      "execution_count": null,
      "outputs": []
    },
    {
      "cell_type": "code",
      "metadata": {
        "id": "AXGfi50dDwJk"
      },
      "source": [
        "X_train, X_test, y_train, y_test = train_test_split(X, y, test_size=0.2, random_state=0)\n",
        "\n",
        "sc = StandardScaler()\n",
        "sc.fit(X_train) # get mean and sd of X_train\n",
        "X_train_std = sc.transform(X_train) # training\n",
        "X_test_std = sc.transform(X_test)"
      ],
      "execution_count": null,
      "outputs": []
    },
    {
      "cell_type": "code",
      "metadata": {
        "id": "QlrLN-d12lt3"
      },
      "source": [
        "from sklearn.feature_selection import SelectFromModel\n",
        "from sklearn.ensemble import RandomForestClassifier\n",
        "\n",
        "select = SelectFromModel(RandomForestClassifier(n_estimators=100, random_state=40), threshold=\"median\")\n",
        "select.fit(X_std, y)\n",
        "X_rf = select.transform(X_std)"
      ],
      "execution_count": null,
      "outputs": []
    },
    {
      "cell_type": "code",
      "metadata": {
        "id": "Ye423flR2p_L"
      },
      "source": [
        "X = nba_betting_gamelogs_09to21.loc[:,[\"W_PCT\",\"FG_PCT_avg\",\"FG3_PCT_avg\",\"DREB_avg\",\"BLK_avg\"]]"
      ],
      "execution_count": null,
      "outputs": []
    },
    {
      "cell_type": "code",
      "metadata": {
        "id": "8VWMBmle2v8V"
      },
      "source": [
        "X_train, X_test, y_train, y_test = train_test_split(X, y, test_size=0.2, random_state=0)\n",
        "\n",
        "sc = StandardScaler()\n",
        "sc.fit(X_train) # get mean and sd of X_train\n",
        "X_train_std = sc.transform(X_train) # training\n",
        "X_test_std = sc.transform(X_test)"
      ],
      "execution_count": null,
      "outputs": []
    },
    {
      "cell_type": "code",
      "metadata": {
        "id": "KViCDpbbiVIN"
      },
      "source": [
        "tree = DecisionTreeClassifier(max_depth=2).fit(X_train_std, y_train)\n",
        "pred_tree = tree.predict(X_test_std)\n",
        "print(tree.score(X_test_std, y_test))"
      ],
      "execution_count": null,
      "outputs": []
    },
    {
      "cell_type": "code",
      "metadata": {
        "id": "0rzAvCfTDwPY"
      },
      "source": [
        "lr = LogisticRegression(C=1000.0, random_state=0)\n",
        "lr.fit(X_train_std, y_train)\n",
        "\n",
        "y_pred = lr.predict(X_test_std)\n",
        "\n",
        "# calculate accuracy score \n",
        "accuracy_score(y_test, y_pred)"
      ],
      "execution_count": null,
      "outputs": []
    },
    {
      "cell_type": "code",
      "metadata": {
        "id": "bYbkf3m2Flu1"
      },
      "source": [
        "#BUT each game can only have a winner and loser. So, try predicting by which team has a better %"
      ],
      "execution_count": null,
      "outputs": []
    },
    {
      "cell_type": "code",
      "metadata": {
        "id": "dW4gdRitGc0s"
      },
      "source": [
        "sc.fit(X)\n",
        "X_std = sc.transform(X)\n",
        "\n",
        "lr2 = LogisticRegression(C=1000.0, random_state=0)\n",
        "lr2.fit(X_std,y)\n",
        "\n",
        "y_pred_2 = lr2.predict_proba(X_std)\n",
        "y_pred_3 = lr2.predict(X_std)"
      ],
      "execution_count": null,
      "outputs": []
    },
    {
      "cell_type": "code",
      "metadata": {
        "id": "sedvZoatGc5z"
      },
      "source": [
        "accuracy_score(y,y_pred_3)"
      ],
      "execution_count": null,
      "outputs": []
    },
    {
      "cell_type": "code",
      "metadata": {
        "id": "pAX4DKY8Gc_3"
      },
      "source": [
        "perc_preds = []\n",
        "for preds in y_pred_2:\n",
        "  perc_preds.append(preds[1])"
      ],
      "execution_count": null,
      "outputs": []
    },
    {
      "cell_type": "code",
      "metadata": {
        "id": "bOQ3d6bkT73P"
      },
      "source": [
        "nba_betting_gamelogs_09to21[\"Perc Win\"] = perc_preds"
      ],
      "execution_count": null,
      "outputs": []
    },
    {
      "cell_type": "code",
      "metadata": {
        "id": "Twfq3U5-Ubry"
      },
      "source": [
        "nba_betting_gamelogs_09to21.reset_index(inplace=True)"
      ],
      "execution_count": null,
      "outputs": []
    },
    {
      "cell_type": "code",
      "metadata": {
        "id": "s5iuNesnVm_o"
      },
      "source": [
        "nba_betting_gamelogs_09to21.drop(columns=[\"index\"],inplace=True)"
      ],
      "execution_count": null,
      "outputs": []
    },
    {
      "cell_type": "code",
      "metadata": {
        "id": "MVYIafF1V4Nb"
      },
      "source": [
        ""
      ],
      "execution_count": null,
      "outputs": []
    },
    {
      "cell_type": "code",
      "metadata": {
        "id": "OQ9PQ-B-Vegp"
      },
      "source": [
        "game_id_list = nba_betting_gamelogs_09to21[\"game_team_id\"].tolist()"
      ],
      "execution_count": null,
      "outputs": []
    },
    {
      "cell_type": "code",
      "metadata": {
        "id": "r-MBSYVrUbwj"
      },
      "source": [
        "opp_pred = []\n",
        "\n",
        "for index, row in nba_betting_gamelogs_09to21.iterrows():\n",
        "  try:\n",
        "    date = row[\"Date\"]\n",
        "    opp_team = row[\"MATCHUP\"][-3:]\n",
        "    year = row[\"Year\"]\n",
        "    opponent = str(date)+str(opp_team)+str(year)\n",
        "    ind = game_id_list.index(opponent)\n",
        "    opp_pred_perc = nba_betting_gamelogs_09to21.loc[ind,\"Perc Win\"]\n",
        "    opp_pred.append(opp_pred_perc)\n",
        "  except:\n",
        "    opp_pred.append(np.nan)"
      ],
      "execution_count": null,
      "outputs": []
    },
    {
      "cell_type": "code",
      "metadata": {
        "id": "FddG0kP_Ub0M"
      },
      "source": [
        "nba_betting_gamelogs_09to21[\"Opp Pred\"] = opp_pred"
      ],
      "execution_count": null,
      "outputs": []
    },
    {
      "cell_type": "code",
      "metadata": {
        "id": "qbVgKmrcXYxx"
      },
      "source": [
        "nba_betting_gamelogs_09to21.dropna(inplace=True)"
      ],
      "execution_count": null,
      "outputs": []
    },
    {
      "cell_type": "code",
      "metadata": {
        "id": "-mDjrFPsXY0k"
      },
      "source": [
        "log_pred = []\n",
        "\n",
        "for index, row in nba_betting_gamelogs_09to21.iterrows():\n",
        "  if row[\"Perc Win\"] > row[\"Opp Pred\"]:\n",
        "    log_pred.append(1)\n",
        "  else:\n",
        "    log_pred.append(0)"
      ],
      "execution_count": null,
      "outputs": []
    },
    {
      "cell_type": "code",
      "metadata": {
        "id": "PABzqsboXY3B"
      },
      "source": [
        "nba_betting_gamelogs_09to21[\"Log Pred\"] = log_pred"
      ],
      "execution_count": null,
      "outputs": []
    },
    {
      "cell_type": "code",
      "metadata": {
        "id": "OnYm6Utbkeni"
      },
      "source": [
        "nba_betting_gamelogs_09to21.reset_index(inplace=True)"
      ],
      "execution_count": null,
      "outputs": []
    },
    {
      "cell_type": "code",
      "metadata": {
        "id": "HI2RVuh54h08"
      },
      "source": [
        "nba_betting_gamelogs_09to21.drop(columns=[\"index\"],inplace=True)"
      ],
      "execution_count": null,
      "outputs": []
    },
    {
      "cell_type": "code",
      "metadata": {
        "colab": {
          "base_uri": "https://localhost:8080/"
        },
        "id": "Ed9c1w8yYhfx",
        "outputId": "3c142d74-113f-49c7-d1f2-948cbfcc200d"
      },
      "source": [
        "accuracy_score(nba_betting_gamelogs_09to21[\"Win?\"],nba_betting_gamelogs_09to21[\"prediction\"])"
      ],
      "execution_count": 67,
      "outputs": [
        {
          "output_type": "execute_result",
          "data": {
            "text/plain": [
              "0.6823058877821789"
            ]
          },
          "metadata": {
            "tags": []
          },
          "execution_count": 67
        }
      ]
    },
    {
      "cell_type": "code",
      "metadata": {
        "colab": {
          "base_uri": "https://localhost:8080/"
        },
        "id": "gO92MhPoYhm7",
        "outputId": "1ca556bc-b8ad-407a-ee36-4df76c689c4b"
      },
      "source": [
        "accuracy_score(nba_betting_gamelogs_09to21[\"Win?\"],nba_betting_gamelogs_09to21[\"Log Pred\"])"
      ],
      "execution_count": 66,
      "outputs": [
        {
          "output_type": "execute_result",
          "data": {
            "text/plain": [
              "0.7125716263508057"
            ]
          },
          "metadata": {
            "tags": []
          },
          "execution_count": 66
        }
      ]
    },
    {
      "cell_type": "code",
      "metadata": {
        "id": "HOqRrizsYfkV"
      },
      "source": [
        "money_log_winloss = []\n",
        "\n",
        "for index, row in nba_betting_gamelogs_09to21.iterrows():\n",
        "    if row[\"Win?\"] == 1 and row[\"Log Pred\"] == 1 and row[\"Opp Pred\"] < .5:\n",
        "        if row[\"ML\"] > 0:\n",
        "            money_log_winloss.append(abs(row[\"ML\"]))\n",
        "        elif row[\"ML\"] < 0:\n",
        "            hundred_payout = 100/(int(abs(row[\"ML\"]))/100)\n",
        "            money_log_winloss.append(hundred_payout)\n",
        "        else:\n",
        "            pass\n",
        "    elif row[\"Win?\"] == 0 and row[\"Log Pred\"] == 1 and row[\"Opp Pred\"] < .5:\n",
        "        money_log_winloss.append(-100)\n",
        "    else:\n",
        "        money_log_winloss.append(0)"
      ],
      "execution_count": 107,
      "outputs": []
    },
    {
      "cell_type": "code",
      "metadata": {
        "colab": {
          "base_uri": "https://localhost:8080/"
        },
        "id": "TnqvK255a5sv",
        "outputId": "e126df69-2469-4fdb-ac98-89a41ed4d451"
      },
      "source": [
        "sum(money_log_winloss)"
      ],
      "execution_count": 108,
      "outputs": [
        {
          "output_type": "execute_result",
          "data": {
            "text/plain": [
              "128863.57921567703"
            ]
          },
          "metadata": {
            "tags": []
          },
          "execution_count": 108
        }
      ]
    },
    {
      "cell_type": "code",
      "metadata": {
        "id": "vrTJyQwibbAJ"
      },
      "source": [
        "total_bet = []\n",
        "for index, row in nba_betting_gamelogs_09to21.iterrows():\n",
        "  if row[\"Log Pred\"] == 1 and row[\"Opp Pred\"] < .5:\n",
        "    total_bet.append(100)\n",
        "  else:\n",
        "    pass"
      ],
      "execution_count": 109,
      "outputs": []
    },
    {
      "cell_type": "code",
      "metadata": {
        "colab": {
          "base_uri": "https://localhost:8080/"
        },
        "id": "7wShLP7Iby8i",
        "outputId": "d6bb61b1-9621-4941-f2d9-e9e0452c8fde"
      },
      "source": [
        "sum(total_bet)"
      ],
      "execution_count": 110,
      "outputs": [
        {
          "output_type": "execute_result",
          "data": {
            "text/plain": [
              "975100"
            ]
          },
          "metadata": {
            "tags": []
          },
          "execution_count": 110
        }
      ]
    },
    {
      "cell_type": "code",
      "metadata": {
        "id": "fTWp9bi0iw3e"
      },
      "source": [
        "confusion_vegas = confusion_matrix(nba_betting_gamelogs_09to21[\"Win?\"], nba_betting_gamelogs_09to21[\"prediction\"])\n",
        "print(confusion_vegas)"
      ],
      "execution_count": null,
      "outputs": []
    },
    {
      "cell_type": "code",
      "metadata": {
        "id": "ImP2MRZCiw7v"
      },
      "source": [
        "confusion1 = confusion_matrix(nba_betting_gamelogs_09to21[\"Win?\"], nba_betting_gamelogs_09to21[\"Log Pred\"])\n",
        "print(confusion1)"
      ],
      "execution_count": null,
      "outputs": []
    },
    {
      "cell_type": "code",
      "metadata": {
        "id": "62QiFYr44aIB"
      },
      "source": [
        "nba_betting_gamelogs_09to21"
      ],
      "execution_count": null,
      "outputs": []
    },
    {
      "cell_type": "markdown",
      "metadata": {
        "id": "fIJSXmlnlCU6"
      },
      "source": [
        "Comparision of the Four Prediction Strategies"
      ]
    },
    {
      "cell_type": "code",
      "metadata": {
        "id": "n7bAOdiCixAY"
      },
      "source": [
        "# print(\"Most Freqent Classifier Confusion Matrix:\")\n",
        "# print(confusion_matrix(y_test, pred_most_frequent))\n",
        "# print(\"Stratified Classifier Confusion Matrix:\")\n",
        "# print(confusion_matrix(y_test, pred_dummy))\n",
        "# print(\"Decision Tree Classifier Confusion Matrix:\")\n",
        "# print(confusion_matrix(y_test, pred_tree))\n",
        "# print(\"Logistic Classifier Confusion Matrix:\")\n",
        "# print(confusion_matrix(y_test, pred_logreg))"
      ],
      "execution_count": null,
      "outputs": []
    },
    {
      "cell_type": "code",
      "metadata": {
        "id": "Y7PZazpPlSjd"
      },
      "source": [
        "print(classification_report(nba_betting_gamelogs_09to21[\"Win?\"], nba_betting_gamelogs_09to21[\"prediction\"]))\n",
        "print(classification_report(nba_betting_gamelogs_09to21[\"Win?\"], nba_betting_gamelogs_09to21[\"Log Pred\"]))"
      ],
      "execution_count": null,
      "outputs": []
    },
    {
      "cell_type": "code",
      "metadata": {
        "id": "gUY_I12ilSmc"
      },
      "source": [
        "fpr, tpr, thresholds = roc_curve(nba_betting_gamelogs_09to21[\"Win?\"], nba_betting_gamelogs_09to21[\"Perc Win\"])\n",
        "\n",
        "plt.plot(fpr, tpr, label=\"DT ROC\")\n",
        "plt.xlabel(\"FPR\")\n",
        "plt.ylabel(\"TPR (Recall)\")\n",
        "plt.legend(loc=4)"
      ],
      "execution_count": null,
      "outputs": []
    },
    {
      "cell_type": "code",
      "metadata": {
        "id": "tClssfoMlSoe"
      },
      "source": [
        "from sklearn.decomposition import PCA\n",
        "\n",
        "pca = PCA(n_components=10)\n",
        "pca.fit(X_train_std)\n",
        "\n",
        "#Plotting the Cumulative Summation of the Explained Variance\n",
        "plt.rcParams[\"figure.figsize\"] = (11,4)\n",
        "plt.ylim(0.5,1.01)\n",
        "plt.plot(np.cumsum(pca.explained_variance_ratio_), marker='o', linestyle='--', color='b')\n",
        "plt.xlabel('Number of Components')\n",
        "plt.ylabel('Cumulative variance (%)')\n",
        "plt.title('The number of components needed to explain variance')\n",
        "plt.axhline(y=0.95, color='r', linestyle='-')\n",
        "plt.text(0.5, 0.94, '95% cut-off threshold', color = 'red', fontsize=16)\n",
        "plt.show()"
      ],
      "execution_count": null,
      "outputs": []
    },
    {
      "cell_type": "code",
      "metadata": {
        "id": "OjQq3BWcso1n",
        "colab": {
          "base_uri": "https://localhost:8080/",
          "height": 606
        },
        "outputId": "1544803a-79cc-4c72-bf74-db93ae6897f8"
      },
      "source": [
        "nba_betting_gamelogs_09to21"
      ],
      "execution_count": 74,
      "outputs": [
        {
          "output_type": "execute_result",
          "data": {
            "text/html": [
              "<div>\n",
              "<style scoped>\n",
              "    .dataframe tbody tr th:only-of-type {\n",
              "        vertical-align: middle;\n",
              "    }\n",
              "\n",
              "    .dataframe tbody tr th {\n",
              "        vertical-align: top;\n",
              "    }\n",
              "\n",
              "    .dataframe thead th {\n",
              "        text-align: right;\n",
              "    }\n",
              "</style>\n",
              "<table border=\"1\" class=\"dataframe\">\n",
              "  <thead>\n",
              "    <tr style=\"text-align: right;\">\n",
              "      <th></th>\n",
              "      <th>Date</th>\n",
              "      <th>Rot</th>\n",
              "      <th>VH</th>\n",
              "      <th>Team</th>\n",
              "      <th>1st</th>\n",
              "      <th>2nd</th>\n",
              "      <th>3rd</th>\n",
              "      <th>4th</th>\n",
              "      <th>Final</th>\n",
              "      <th>Open</th>\n",
              "      <th>Close</th>\n",
              "      <th>ML</th>\n",
              "      <th>2H</th>\n",
              "      <th>Year</th>\n",
              "      <th>team_abb</th>\n",
              "      <th>game_team_id</th>\n",
              "      <th>Team_ID</th>\n",
              "      <th>Game_ID</th>\n",
              "      <th>GAME_DATE</th>\n",
              "      <th>MATCHUP</th>\n",
              "      <th>WL</th>\n",
              "      <th>W</th>\n",
              "      <th>L</th>\n",
              "      <th>W_PCT</th>\n",
              "      <th>MIN</th>\n",
              "      <th>FGM</th>\n",
              "      <th>FGA</th>\n",
              "      <th>FG_PCT</th>\n",
              "      <th>FG3M</th>\n",
              "      <th>FG3A</th>\n",
              "      <th>FG3_PCT</th>\n",
              "      <th>FTM</th>\n",
              "      <th>FTA</th>\n",
              "      <th>FT_PCT</th>\n",
              "      <th>OREB</th>\n",
              "      <th>DREB</th>\n",
              "      <th>REB</th>\n",
              "      <th>AST</th>\n",
              "      <th>STL</th>\n",
              "      <th>BLK</th>\n",
              "      <th>TOV</th>\n",
              "      <th>PF</th>\n",
              "      <th>PTS</th>\n",
              "      <th>G</th>\n",
              "      <th>FGM_avg</th>\n",
              "      <th>FGA_avg</th>\n",
              "      <th>FG_PCT_avg</th>\n",
              "      <th>FG3M_avg</th>\n",
              "      <th>FG3A_avg</th>\n",
              "      <th>FG3_PCT_avg</th>\n",
              "      <th>FTM_avg</th>\n",
              "      <th>FTA_avg</th>\n",
              "      <th>FT_PCT_avg</th>\n",
              "      <th>OREB_avg</th>\n",
              "      <th>DREB_avg</th>\n",
              "      <th>REB_avg</th>\n",
              "      <th>AST_avg</th>\n",
              "      <th>STL_avg</th>\n",
              "      <th>BLK_avg</th>\n",
              "      <th>TOV_avg</th>\n",
              "      <th>PF_avg</th>\n",
              "      <th>PTS_avg</th>\n",
              "      <th>prediction</th>\n",
              "      <th>opp_score</th>\n",
              "      <th>Win?</th>\n",
              "      <th>Perc Win</th>\n",
              "      <th>Opp Pred</th>\n",
              "      <th>Log Pred</th>\n",
              "    </tr>\n",
              "  </thead>\n",
              "  <tbody>\n",
              "    <tr>\n",
              "      <th>0</th>\n",
              "      <td>1029</td>\n",
              "      <td>503</td>\n",
              "      <td>V</td>\n",
              "      <td>Denver</td>\n",
              "      <td>24</td>\n",
              "      <td>18</td>\n",
              "      <td>20</td>\n",
              "      <td>35</td>\n",
              "      <td>97</td>\n",
              "      <td>199</td>\n",
              "      <td>201</td>\n",
              "      <td>270.0</td>\n",
              "      <td>99.5</td>\n",
              "      <td>2009</td>\n",
              "      <td>DEN</td>\n",
              "      <td>1029DEN2009</td>\n",
              "      <td>1.610613e+09</td>\n",
              "      <td>20900018</td>\n",
              "      <td>OCT 29, 2009</td>\n",
              "      <td>DEN @ POR</td>\n",
              "      <td>W</td>\n",
              "      <td>2.0</td>\n",
              "      <td>0.0</td>\n",
              "      <td>1.000</td>\n",
              "      <td>240.0</td>\n",
              "      <td>28.0</td>\n",
              "      <td>61.0</td>\n",
              "      <td>0.459</td>\n",
              "      <td>3.0</td>\n",
              "      <td>11.0</td>\n",
              "      <td>0.273</td>\n",
              "      <td>38.0</td>\n",
              "      <td>49.0</td>\n",
              "      <td>0.776</td>\n",
              "      <td>5.0</td>\n",
              "      <td>31.0</td>\n",
              "      <td>36.0</td>\n",
              "      <td>11.0</td>\n",
              "      <td>6.0</td>\n",
              "      <td>3.0</td>\n",
              "      <td>8.0</td>\n",
              "      <td>30.0</td>\n",
              "      <td>97.0</td>\n",
              "      <td>2.0</td>\n",
              "      <td>43.000000</td>\n",
              "      <td>89.000000</td>\n",
              "      <td>0.483000</td>\n",
              "      <td>5.000000</td>\n",
              "      <td>13.000000</td>\n",
              "      <td>0.385000</td>\n",
              "      <td>23.000000</td>\n",
              "      <td>30.000000</td>\n",
              "      <td>0.767000</td>\n",
              "      <td>14.000000</td>\n",
              "      <td>28.000000</td>\n",
              "      <td>42.000000</td>\n",
              "      <td>22.000000</td>\n",
              "      <td>5.000000</td>\n",
              "      <td>6.000000</td>\n",
              "      <td>13.000000</td>\n",
              "      <td>25.000000</td>\n",
              "      <td>114.000000</td>\n",
              "      <td>0</td>\n",
              "      <td>94</td>\n",
              "      <td>1</td>\n",
              "      <td>0.928280</td>\n",
              "      <td>0.371347</td>\n",
              "      <td>1</td>\n",
              "    </tr>\n",
              "    <tr>\n",
              "      <th>1</th>\n",
              "      <td>1029</td>\n",
              "      <td>504</td>\n",
              "      <td>H</td>\n",
              "      <td>Portland</td>\n",
              "      <td>17</td>\n",
              "      <td>26</td>\n",
              "      <td>24</td>\n",
              "      <td>27</td>\n",
              "      <td>94</td>\n",
              "      <td>6</td>\n",
              "      <td>7</td>\n",
              "      <td>-330.0</td>\n",
              "      <td>4.5</td>\n",
              "      <td>2009</td>\n",
              "      <td>POR</td>\n",
              "      <td>1029POR2009</td>\n",
              "      <td>1.610613e+09</td>\n",
              "      <td>20900018</td>\n",
              "      <td>OCT 29, 2009</td>\n",
              "      <td>POR vs. DEN</td>\n",
              "      <td>L</td>\n",
              "      <td>1.0</td>\n",
              "      <td>1.0</td>\n",
              "      <td>0.500</td>\n",
              "      <td>240.0</td>\n",
              "      <td>28.0</td>\n",
              "      <td>81.0</td>\n",
              "      <td>0.346</td>\n",
              "      <td>5.0</td>\n",
              "      <td>19.0</td>\n",
              "      <td>0.263</td>\n",
              "      <td>33.0</td>\n",
              "      <td>41.0</td>\n",
              "      <td>0.805</td>\n",
              "      <td>14.0</td>\n",
              "      <td>30.0</td>\n",
              "      <td>44.0</td>\n",
              "      <td>16.0</td>\n",
              "      <td>4.0</td>\n",
              "      <td>5.0</td>\n",
              "      <td>7.0</td>\n",
              "      <td>30.0</td>\n",
              "      <td>94.0</td>\n",
              "      <td>2.0</td>\n",
              "      <td>33.000000</td>\n",
              "      <td>77.000000</td>\n",
              "      <td>0.429000</td>\n",
              "      <td>10.000000</td>\n",
              "      <td>21.000000</td>\n",
              "      <td>0.476000</td>\n",
              "      <td>20.000000</td>\n",
              "      <td>22.000000</td>\n",
              "      <td>0.909000</td>\n",
              "      <td>12.000000</td>\n",
              "      <td>39.000000</td>\n",
              "      <td>51.000000</td>\n",
              "      <td>23.000000</td>\n",
              "      <td>9.000000</td>\n",
              "      <td>12.000000</td>\n",
              "      <td>26.000000</td>\n",
              "      <td>27.000000</td>\n",
              "      <td>96.000000</td>\n",
              "      <td>1</td>\n",
              "      <td>86</td>\n",
              "      <td>0</td>\n",
              "      <td>0.371347</td>\n",
              "      <td>0.928280</td>\n",
              "      <td>0</td>\n",
              "    </tr>\n",
              "    <tr>\n",
              "      <th>2</th>\n",
              "      <td>1030</td>\n",
              "      <td>703</td>\n",
              "      <td>V</td>\n",
              "      <td>NewYork</td>\n",
              "      <td>13</td>\n",
              "      <td>24</td>\n",
              "      <td>18</td>\n",
              "      <td>27</td>\n",
              "      <td>100</td>\n",
              "      <td>197.5</td>\n",
              "      <td>196</td>\n",
              "      <td>105.0</td>\n",
              "      <td>3.5</td>\n",
              "      <td>2009</td>\n",
              "      <td>NYK</td>\n",
              "      <td>1030NYK2009</td>\n",
              "      <td>1.610613e+09</td>\n",
              "      <td>20900019</td>\n",
              "      <td>OCT 30, 2009</td>\n",
              "      <td>NYK @ CHA</td>\n",
              "      <td>L</td>\n",
              "      <td>0.0</td>\n",
              "      <td>2.0</td>\n",
              "      <td>0.000</td>\n",
              "      <td>290.0</td>\n",
              "      <td>38.0</td>\n",
              "      <td>98.0</td>\n",
              "      <td>0.388</td>\n",
              "      <td>9.0</td>\n",
              "      <td>36.0</td>\n",
              "      <td>0.250</td>\n",
              "      <td>15.0</td>\n",
              "      <td>18.0</td>\n",
              "      <td>0.833</td>\n",
              "      <td>10.0</td>\n",
              "      <td>40.0</td>\n",
              "      <td>50.0</td>\n",
              "      <td>20.0</td>\n",
              "      <td>5.0</td>\n",
              "      <td>7.0</td>\n",
              "      <td>17.0</td>\n",
              "      <td>28.0</td>\n",
              "      <td>100.0</td>\n",
              "      <td>2.0</td>\n",
              "      <td>33.000000</td>\n",
              "      <td>87.000000</td>\n",
              "      <td>0.379000</td>\n",
              "      <td>10.000000</td>\n",
              "      <td>39.000000</td>\n",
              "      <td>0.256000</td>\n",
              "      <td>17.000000</td>\n",
              "      <td>21.000000</td>\n",
              "      <td>0.810000</td>\n",
              "      <td>12.000000</td>\n",
              "      <td>27.000000</td>\n",
              "      <td>39.000000</td>\n",
              "      <td>19.000000</td>\n",
              "      <td>8.000000</td>\n",
              "      <td>3.000000</td>\n",
              "      <td>13.000000</td>\n",
              "      <td>17.000000</td>\n",
              "      <td>93.000000</td>\n",
              "      <td>0</td>\n",
              "      <td>102</td>\n",
              "      <td>0</td>\n",
              "      <td>0.161208</td>\n",
              "      <td>0.870987</td>\n",
              "      <td>0</td>\n",
              "    </tr>\n",
              "    <tr>\n",
              "      <th>3</th>\n",
              "      <td>1030</td>\n",
              "      <td>704</td>\n",
              "      <td>H</td>\n",
              "      <td>Charlotte</td>\n",
              "      <td>32</td>\n",
              "      <td>19</td>\n",
              "      <td>18</td>\n",
              "      <td>13</td>\n",
              "      <td>102</td>\n",
              "      <td>2.5</td>\n",
              "      <td>1.5</td>\n",
              "      <td>-125.0</td>\n",
              "      <td>96.5</td>\n",
              "      <td>2009</td>\n",
              "      <td>CHA</td>\n",
              "      <td>1030CHA2009</td>\n",
              "      <td>1.610613e+09</td>\n",
              "      <td>20900019</td>\n",
              "      <td>OCT 30, 2009</td>\n",
              "      <td>CHA vs. NYK</td>\n",
              "      <td>W</td>\n",
              "      <td>1.0</td>\n",
              "      <td>1.0</td>\n",
              "      <td>0.500</td>\n",
              "      <td>290.0</td>\n",
              "      <td>35.0</td>\n",
              "      <td>92.0</td>\n",
              "      <td>0.380</td>\n",
              "      <td>3.0</td>\n",
              "      <td>18.0</td>\n",
              "      <td>0.167</td>\n",
              "      <td>29.0</td>\n",
              "      <td>36.0</td>\n",
              "      <td>0.806</td>\n",
              "      <td>12.0</td>\n",
              "      <td>43.0</td>\n",
              "      <td>55.0</td>\n",
              "      <td>18.0</td>\n",
              "      <td>8.0</td>\n",
              "      <td>6.0</td>\n",
              "      <td>15.0</td>\n",
              "      <td>19.0</td>\n",
              "      <td>102.0</td>\n",
              "      <td>2.0</td>\n",
              "      <td>23.000000</td>\n",
              "      <td>74.000000</td>\n",
              "      <td>0.311000</td>\n",
              "      <td>0.000000</td>\n",
              "      <td>10.000000</td>\n",
              "      <td>0.000000</td>\n",
              "      <td>13.000000</td>\n",
              "      <td>25.000000</td>\n",
              "      <td>0.520000</td>\n",
              "      <td>14.000000</td>\n",
              "      <td>32.000000</td>\n",
              "      <td>46.000000</td>\n",
              "      <td>10.000000</td>\n",
              "      <td>6.000000</td>\n",
              "      <td>4.000000</td>\n",
              "      <td>18.000000</td>\n",
              "      <td>23.000000</td>\n",
              "      <td>59.000000</td>\n",
              "      <td>1</td>\n",
              "      <td>89</td>\n",
              "      <td>1</td>\n",
              "      <td>0.870987</td>\n",
              "      <td>0.161208</td>\n",
              "      <td>1</td>\n",
              "    </tr>\n",
              "    <tr>\n",
              "      <th>4</th>\n",
              "      <td>1030</td>\n",
              "      <td>705</td>\n",
              "      <td>V</td>\n",
              "      <td>Washington</td>\n",
              "      <td>24</td>\n",
              "      <td>20</td>\n",
              "      <td>22</td>\n",
              "      <td>23</td>\n",
              "      <td>89</td>\n",
              "      <td>203</td>\n",
              "      <td>202.5</td>\n",
              "      <td>220.0</td>\n",
              "      <td>1.5</td>\n",
              "      <td>2009</td>\n",
              "      <td>WAS</td>\n",
              "      <td>1030WAS2009</td>\n",
              "      <td>1.610613e+09</td>\n",
              "      <td>20900021</td>\n",
              "      <td>OCT 30, 2009</td>\n",
              "      <td>WAS @ ATL</td>\n",
              "      <td>L</td>\n",
              "      <td>1.0</td>\n",
              "      <td>1.0</td>\n",
              "      <td>0.500</td>\n",
              "      <td>240.0</td>\n",
              "      <td>35.0</td>\n",
              "      <td>79.0</td>\n",
              "      <td>0.443</td>\n",
              "      <td>5.0</td>\n",
              "      <td>13.0</td>\n",
              "      <td>0.385</td>\n",
              "      <td>14.0</td>\n",
              "      <td>22.0</td>\n",
              "      <td>0.636</td>\n",
              "      <td>8.0</td>\n",
              "      <td>32.0</td>\n",
              "      <td>40.0</td>\n",
              "      <td>19.0</td>\n",
              "      <td>5.0</td>\n",
              "      <td>5.0</td>\n",
              "      <td>14.0</td>\n",
              "      <td>23.0</td>\n",
              "      <td>89.0</td>\n",
              "      <td>2.0</td>\n",
              "      <td>39.000000</td>\n",
              "      <td>84.000000</td>\n",
              "      <td>0.464000</td>\n",
              "      <td>4.000000</td>\n",
              "      <td>13.000000</td>\n",
              "      <td>0.308000</td>\n",
              "      <td>20.000000</td>\n",
              "      <td>24.000000</td>\n",
              "      <td>0.833000</td>\n",
              "      <td>9.000000</td>\n",
              "      <td>37.000000</td>\n",
              "      <td>46.000000</td>\n",
              "      <td>19.000000</td>\n",
              "      <td>6.000000</td>\n",
              "      <td>4.000000</td>\n",
              "      <td>9.000000</td>\n",
              "      <td>29.000000</td>\n",
              "      <td>102.000000</td>\n",
              "      <td>0</td>\n",
              "      <td>100</td>\n",
              "      <td>0</td>\n",
              "      <td>0.470005</td>\n",
              "      <td>0.862927</td>\n",
              "      <td>0</td>\n",
              "    </tr>\n",
              "    <tr>\n",
              "      <th>...</th>\n",
              "      <td>...</td>\n",
              "      <td>...</td>\n",
              "      <td>...</td>\n",
              "      <td>...</td>\n",
              "      <td>...</td>\n",
              "      <td>...</td>\n",
              "      <td>...</td>\n",
              "      <td>...</td>\n",
              "      <td>...</td>\n",
              "      <td>...</td>\n",
              "      <td>...</td>\n",
              "      <td>...</td>\n",
              "      <td>...</td>\n",
              "      <td>...</td>\n",
              "      <td>...</td>\n",
              "      <td>...</td>\n",
              "      <td>...</td>\n",
              "      <td>...</td>\n",
              "      <td>...</td>\n",
              "      <td>...</td>\n",
              "      <td>...</td>\n",
              "      <td>...</td>\n",
              "      <td>...</td>\n",
              "      <td>...</td>\n",
              "      <td>...</td>\n",
              "      <td>...</td>\n",
              "      <td>...</td>\n",
              "      <td>...</td>\n",
              "      <td>...</td>\n",
              "      <td>...</td>\n",
              "      <td>...</td>\n",
              "      <td>...</td>\n",
              "      <td>...</td>\n",
              "      <td>...</td>\n",
              "      <td>...</td>\n",
              "      <td>...</td>\n",
              "      <td>...</td>\n",
              "      <td>...</td>\n",
              "      <td>...</td>\n",
              "      <td>...</td>\n",
              "      <td>...</td>\n",
              "      <td>...</td>\n",
              "      <td>...</td>\n",
              "      <td>...</td>\n",
              "      <td>...</td>\n",
              "      <td>...</td>\n",
              "      <td>...</td>\n",
              "      <td>...</td>\n",
              "      <td>...</td>\n",
              "      <td>...</td>\n",
              "      <td>...</td>\n",
              "      <td>...</td>\n",
              "      <td>...</td>\n",
              "      <td>...</td>\n",
              "      <td>...</td>\n",
              "      <td>...</td>\n",
              "      <td>...</td>\n",
              "      <td>...</td>\n",
              "      <td>...</td>\n",
              "      <td>...</td>\n",
              "      <td>...</td>\n",
              "      <td>...</td>\n",
              "      <td>...</td>\n",
              "      <td>...</td>\n",
              "      <td>...</td>\n",
              "      <td>...</td>\n",
              "      <td>...</td>\n",
              "      <td>...</td>\n",
              "    </tr>\n",
              "    <tr>\n",
              "      <th>25998</th>\n",
              "      <td>321</td>\n",
              "      <td>526</td>\n",
              "      <td>H</td>\n",
              "      <td>NewYork</td>\n",
              "      <td>15</td>\n",
              "      <td>27</td>\n",
              "      <td>22</td>\n",
              "      <td>24</td>\n",
              "      <td>100</td>\n",
              "      <td>215</td>\n",
              "      <td>211.5</td>\n",
              "      <td>105.0</td>\n",
              "      <td>102</td>\n",
              "      <td>2021</td>\n",
              "      <td>NYK</td>\n",
              "      <td>321NYK2021</td>\n",
              "      <td>1.610613e+09</td>\n",
              "      <td>22000650</td>\n",
              "      <td>MAR 21, 2021</td>\n",
              "      <td>NYK vs. PHI</td>\n",
              "      <td>L</td>\n",
              "      <td>21.0</td>\n",
              "      <td>22.0</td>\n",
              "      <td>0.488</td>\n",
              "      <td>265.0</td>\n",
              "      <td>38.0</td>\n",
              "      <td>88.0</td>\n",
              "      <td>0.432</td>\n",
              "      <td>11.0</td>\n",
              "      <td>24.0</td>\n",
              "      <td>0.458</td>\n",
              "      <td>13.0</td>\n",
              "      <td>23.0</td>\n",
              "      <td>0.565</td>\n",
              "      <td>13.0</td>\n",
              "      <td>31.0</td>\n",
              "      <td>44.0</td>\n",
              "      <td>16.0</td>\n",
              "      <td>13.0</td>\n",
              "      <td>2.0</td>\n",
              "      <td>17.0</td>\n",
              "      <td>19.0</td>\n",
              "      <td>100.0</td>\n",
              "      <td>43.0</td>\n",
              "      <td>38.904762</td>\n",
              "      <td>85.857143</td>\n",
              "      <td>0.453810</td>\n",
              "      <td>10.619048</td>\n",
              "      <td>28.547619</td>\n",
              "      <td>0.372310</td>\n",
              "      <td>16.404762</td>\n",
              "      <td>21.285714</td>\n",
              "      <td>0.765452</td>\n",
              "      <td>10.309524</td>\n",
              "      <td>35.738095</td>\n",
              "      <td>46.047619</td>\n",
              "      <td>21.047619</td>\n",
              "      <td>6.785714</td>\n",
              "      <td>4.642857</td>\n",
              "      <td>12.714286</td>\n",
              "      <td>20.595238</td>\n",
              "      <td>104.833333</td>\n",
              "      <td>0</td>\n",
              "      <td>94</td>\n",
              "      <td>0</td>\n",
              "      <td>0.449410</td>\n",
              "      <td>0.653669</td>\n",
              "      <td>0</td>\n",
              "    </tr>\n",
              "    <tr>\n",
              "      <th>25999</th>\n",
              "      <td>321</td>\n",
              "      <td>527</td>\n",
              "      <td>V</td>\n",
              "      <td>LALakers</td>\n",
              "      <td>26</td>\n",
              "      <td>18</td>\n",
              "      <td>32</td>\n",
              "      <td>18</td>\n",
              "      <td>94</td>\n",
              "      <td>216</td>\n",
              "      <td>217</td>\n",
              "      <td>425.0</td>\n",
              "      <td>104.5</td>\n",
              "      <td>2021</td>\n",
              "      <td>LAL</td>\n",
              "      <td>321LAL2021</td>\n",
              "      <td>1.610613e+09</td>\n",
              "      <td>22000651</td>\n",
              "      <td>MAR 21, 2021</td>\n",
              "      <td>LAL @ PHX</td>\n",
              "      <td>L</td>\n",
              "      <td>28.0</td>\n",
              "      <td>15.0</td>\n",
              "      <td>0.651</td>\n",
              "      <td>240.0</td>\n",
              "      <td>35.0</td>\n",
              "      <td>85.0</td>\n",
              "      <td>0.412</td>\n",
              "      <td>5.0</td>\n",
              "      <td>25.0</td>\n",
              "      <td>0.200</td>\n",
              "      <td>19.0</td>\n",
              "      <td>28.0</td>\n",
              "      <td>0.679</td>\n",
              "      <td>7.0</td>\n",
              "      <td>34.0</td>\n",
              "      <td>41.0</td>\n",
              "      <td>20.0</td>\n",
              "      <td>3.0</td>\n",
              "      <td>2.0</td>\n",
              "      <td>11.0</td>\n",
              "      <td>18.0</td>\n",
              "      <td>94.0</td>\n",
              "      <td>43.0</td>\n",
              "      <td>41.642857</td>\n",
              "      <td>86.357143</td>\n",
              "      <td>0.482976</td>\n",
              "      <td>10.690476</td>\n",
              "      <td>30.285714</td>\n",
              "      <td>0.352738</td>\n",
              "      <td>17.476190</td>\n",
              "      <td>23.285714</td>\n",
              "      <td>0.750976</td>\n",
              "      <td>9.880952</td>\n",
              "      <td>35.523810</td>\n",
              "      <td>45.404762</td>\n",
              "      <td>24.476190</td>\n",
              "      <td>7.238095</td>\n",
              "      <td>5.666667</td>\n",
              "      <td>14.476190</td>\n",
              "      <td>18.857143</td>\n",
              "      <td>111.452381</td>\n",
              "      <td>0</td>\n",
              "      <td>111</td>\n",
              "      <td>0</td>\n",
              "      <td>0.611696</td>\n",
              "      <td>0.637929</td>\n",
              "      <td>0</td>\n",
              "    </tr>\n",
              "    <tr>\n",
              "      <th>26000</th>\n",
              "      <td>321</td>\n",
              "      <td>528</td>\n",
              "      <td>H</td>\n",
              "      <td>Phoenix</td>\n",
              "      <td>31</td>\n",
              "      <td>28</td>\n",
              "      <td>29</td>\n",
              "      <td>23</td>\n",
              "      <td>111</td>\n",
              "      <td>3</td>\n",
              "      <td>10</td>\n",
              "      <td>-550.0</td>\n",
              "      <td>1.5</td>\n",
              "      <td>2021</td>\n",
              "      <td>PHX</td>\n",
              "      <td>321PHX2021</td>\n",
              "      <td>1.610613e+09</td>\n",
              "      <td>22000651</td>\n",
              "      <td>MAR 21, 2021</td>\n",
              "      <td>PHX vs. LAL</td>\n",
              "      <td>W</td>\n",
              "      <td>28.0</td>\n",
              "      <td>13.0</td>\n",
              "      <td>0.683</td>\n",
              "      <td>240.0</td>\n",
              "      <td>42.0</td>\n",
              "      <td>87.0</td>\n",
              "      <td>0.483</td>\n",
              "      <td>9.0</td>\n",
              "      <td>32.0</td>\n",
              "      <td>0.281</td>\n",
              "      <td>18.0</td>\n",
              "      <td>23.0</td>\n",
              "      <td>0.783</td>\n",
              "      <td>9.0</td>\n",
              "      <td>42.0</td>\n",
              "      <td>51.0</td>\n",
              "      <td>30.0</td>\n",
              "      <td>7.0</td>\n",
              "      <td>6.0</td>\n",
              "      <td>10.0</td>\n",
              "      <td>24.0</td>\n",
              "      <td>111.0</td>\n",
              "      <td>41.0</td>\n",
              "      <td>42.825000</td>\n",
              "      <td>87.425000</td>\n",
              "      <td>0.491025</td>\n",
              "      <td>13.325000</td>\n",
              "      <td>34.450000</td>\n",
              "      <td>0.388125</td>\n",
              "      <td>15.200000</td>\n",
              "      <td>18.325000</td>\n",
              "      <td>0.828075</td>\n",
              "      <td>8.150000</td>\n",
              "      <td>35.050000</td>\n",
              "      <td>43.200000</td>\n",
              "      <td>27.275000</td>\n",
              "      <td>6.600000</td>\n",
              "      <td>4.225000</td>\n",
              "      <td>13.000000</td>\n",
              "      <td>19.750000</td>\n",
              "      <td>114.175000</td>\n",
              "      <td>1</td>\n",
              "      <td>132</td>\n",
              "      <td>1</td>\n",
              "      <td>0.637929</td>\n",
              "      <td>0.611696</td>\n",
              "      <td>1</td>\n",
              "    </tr>\n",
              "    <tr>\n",
              "      <th>26001</th>\n",
              "      <td>321</td>\n",
              "      <td>529</td>\n",
              "      <td>V</td>\n",
              "      <td>Dallas</td>\n",
              "      <td>27</td>\n",
              "      <td>38</td>\n",
              "      <td>38</td>\n",
              "      <td>29</td>\n",
              "      <td>132</td>\n",
              "      <td>2.5</td>\n",
              "      <td>2</td>\n",
              "      <td>-130.0</td>\n",
              "      <td>112</td>\n",
              "      <td>2021</td>\n",
              "      <td>DAL</td>\n",
              "      <td>321DAL2021</td>\n",
              "      <td>1.610613e+09</td>\n",
              "      <td>22000652</td>\n",
              "      <td>MAR 21, 2021</td>\n",
              "      <td>DAL @ POR</td>\n",
              "      <td>W</td>\n",
              "      <td>22.0</td>\n",
              "      <td>19.0</td>\n",
              "      <td>0.537</td>\n",
              "      <td>240.0</td>\n",
              "      <td>48.0</td>\n",
              "      <td>86.0</td>\n",
              "      <td>0.558</td>\n",
              "      <td>19.0</td>\n",
              "      <td>37.0</td>\n",
              "      <td>0.514</td>\n",
              "      <td>17.0</td>\n",
              "      <td>20.0</td>\n",
              "      <td>0.850</td>\n",
              "      <td>8.0</td>\n",
              "      <td>44.0</td>\n",
              "      <td>52.0</td>\n",
              "      <td>23.0</td>\n",
              "      <td>4.0</td>\n",
              "      <td>3.0</td>\n",
              "      <td>10.0</td>\n",
              "      <td>17.0</td>\n",
              "      <td>132.0</td>\n",
              "      <td>41.0</td>\n",
              "      <td>40.400000</td>\n",
              "      <td>86.125000</td>\n",
              "      <td>0.469075</td>\n",
              "      <td>13.550000</td>\n",
              "      <td>37.750000</td>\n",
              "      <td>0.354825</td>\n",
              "      <td>17.225000</td>\n",
              "      <td>21.925000</td>\n",
              "      <td>0.786900</td>\n",
              "      <td>8.200000</td>\n",
              "      <td>34.500000</td>\n",
              "      <td>42.700000</td>\n",
              "      <td>22.675000</td>\n",
              "      <td>6.275000</td>\n",
              "      <td>4.600000</td>\n",
              "      <td>11.675000</td>\n",
              "      <td>19.825000</td>\n",
              "      <td>111.575000</td>\n",
              "      <td>1</td>\n",
              "      <td>92</td>\n",
              "      <td>1</td>\n",
              "      <td>0.504866</td>\n",
              "      <td>0.619519</td>\n",
              "      <td>0</td>\n",
              "    </tr>\n",
              "    <tr>\n",
              "      <th>26002</th>\n",
              "      <td>321</td>\n",
              "      <td>530</td>\n",
              "      <td>H</td>\n",
              "      <td>Portland</td>\n",
              "      <td>30</td>\n",
              "      <td>24</td>\n",
              "      <td>15</td>\n",
              "      <td>23</td>\n",
              "      <td>92</td>\n",
              "      <td>230.5</td>\n",
              "      <td>227</td>\n",
              "      <td>110.0</td>\n",
              "      <td>2.5</td>\n",
              "      <td>2021</td>\n",
              "      <td>POR</td>\n",
              "      <td>321POR2021</td>\n",
              "      <td>1.610613e+09</td>\n",
              "      <td>22000652</td>\n",
              "      <td>MAR 21, 2021</td>\n",
              "      <td>POR vs. DAL</td>\n",
              "      <td>L</td>\n",
              "      <td>25.0</td>\n",
              "      <td>17.0</td>\n",
              "      <td>0.595</td>\n",
              "      <td>240.0</td>\n",
              "      <td>34.0</td>\n",
              "      <td>89.0</td>\n",
              "      <td>0.382</td>\n",
              "      <td>9.0</td>\n",
              "      <td>41.0</td>\n",
              "      <td>0.220</td>\n",
              "      <td>15.0</td>\n",
              "      <td>19.0</td>\n",
              "      <td>0.789</td>\n",
              "      <td>9.0</td>\n",
              "      <td>24.0</td>\n",
              "      <td>33.0</td>\n",
              "      <td>17.0</td>\n",
              "      <td>7.0</td>\n",
              "      <td>3.0</td>\n",
              "      <td>6.0</td>\n",
              "      <td>17.0</td>\n",
              "      <td>92.0</td>\n",
              "      <td>42.0</td>\n",
              "      <td>40.512195</td>\n",
              "      <td>90.634146</td>\n",
              "      <td>0.448146</td>\n",
              "      <td>16.292683</td>\n",
              "      <td>42.487805</td>\n",
              "      <td>0.382634</td>\n",
              "      <td>17.707317</td>\n",
              "      <td>21.195122</td>\n",
              "      <td>0.832683</td>\n",
              "      <td>10.560976</td>\n",
              "      <td>33.170732</td>\n",
              "      <td>43.731707</td>\n",
              "      <td>19.975610</td>\n",
              "      <td>7.121951</td>\n",
              "      <td>5.024390</td>\n",
              "      <td>11.195122</td>\n",
              "      <td>19.365854</td>\n",
              "      <td>115.024390</td>\n",
              "      <td>0</td>\n",
              "      <td>0</td>\n",
              "      <td>0</td>\n",
              "      <td>0.619519</td>\n",
              "      <td>0.504866</td>\n",
              "      <td>1</td>\n",
              "    </tr>\n",
              "  </tbody>\n",
              "</table>\n",
              "<p>26003 rows × 68 columns</p>\n",
              "</div>"
            ],
            "text/plain": [
              "       Date  Rot VH        Team  1st  2nd  3rd  4th  Final   Open  Close  \\\n",
              "0      1029  503  V      Denver   24   18   20   35     97    199    201   \n",
              "1      1029  504  H    Portland   17   26   24   27     94      6      7   \n",
              "2      1030  703  V     NewYork   13   24   18   27    100  197.5    196   \n",
              "3      1030  704  H   Charlotte   32   19   18   13    102    2.5    1.5   \n",
              "4      1030  705  V  Washington   24   20   22   23     89    203  202.5   \n",
              "...     ...  ... ..         ...  ...  ...  ...  ...    ...    ...    ...   \n",
              "25998   321  526  H     NewYork   15   27   22   24    100    215  211.5   \n",
              "25999   321  527  V    LALakers   26   18   32   18     94    216    217   \n",
              "26000   321  528  H     Phoenix   31   28   29   23    111      3     10   \n",
              "26001   321  529  V      Dallas   27   38   38   29    132    2.5      2   \n",
              "26002   321  530  H    Portland   30   24   15   23     92  230.5    227   \n",
              "\n",
              "          ML     2H  Year team_abb game_team_id       Team_ID   Game_ID  \\\n",
              "0      270.0   99.5  2009      DEN  1029DEN2009  1.610613e+09  20900018   \n",
              "1     -330.0    4.5  2009      POR  1029POR2009  1.610613e+09  20900018   \n",
              "2      105.0    3.5  2009      NYK  1030NYK2009  1.610613e+09  20900019   \n",
              "3     -125.0   96.5  2009      CHA  1030CHA2009  1.610613e+09  20900019   \n",
              "4      220.0    1.5  2009      WAS  1030WAS2009  1.610613e+09  20900021   \n",
              "...      ...    ...   ...      ...          ...           ...       ...   \n",
              "25998  105.0    102  2021      NYK   321NYK2021  1.610613e+09  22000650   \n",
              "25999  425.0  104.5  2021      LAL   321LAL2021  1.610613e+09  22000651   \n",
              "26000 -550.0    1.5  2021      PHX   321PHX2021  1.610613e+09  22000651   \n",
              "26001 -130.0    112  2021      DAL   321DAL2021  1.610613e+09  22000652   \n",
              "26002  110.0    2.5  2021      POR   321POR2021  1.610613e+09  22000652   \n",
              "\n",
              "          GAME_DATE      MATCHUP WL     W     L  W_PCT    MIN   FGM   FGA  \\\n",
              "0      OCT 29, 2009    DEN @ POR  W   2.0   0.0  1.000  240.0  28.0  61.0   \n",
              "1      OCT 29, 2009  POR vs. DEN  L   1.0   1.0  0.500  240.0  28.0  81.0   \n",
              "2      OCT 30, 2009    NYK @ CHA  L   0.0   2.0  0.000  290.0  38.0  98.0   \n",
              "3      OCT 30, 2009  CHA vs. NYK  W   1.0   1.0  0.500  290.0  35.0  92.0   \n",
              "4      OCT 30, 2009    WAS @ ATL  L   1.0   1.0  0.500  240.0  35.0  79.0   \n",
              "...             ...          ... ..   ...   ...    ...    ...   ...   ...   \n",
              "25998  MAR 21, 2021  NYK vs. PHI  L  21.0  22.0  0.488  265.0  38.0  88.0   \n",
              "25999  MAR 21, 2021    LAL @ PHX  L  28.0  15.0  0.651  240.0  35.0  85.0   \n",
              "26000  MAR 21, 2021  PHX vs. LAL  W  28.0  13.0  0.683  240.0  42.0  87.0   \n",
              "26001  MAR 21, 2021    DAL @ POR  W  22.0  19.0  0.537  240.0  48.0  86.0   \n",
              "26002  MAR 21, 2021  POR vs. DAL  L  25.0  17.0  0.595  240.0  34.0  89.0   \n",
              "\n",
              "       FG_PCT  FG3M  FG3A  FG3_PCT   FTM   FTA  FT_PCT  OREB  DREB   REB  \\\n",
              "0       0.459   3.0  11.0    0.273  38.0  49.0   0.776   5.0  31.0  36.0   \n",
              "1       0.346   5.0  19.0    0.263  33.0  41.0   0.805  14.0  30.0  44.0   \n",
              "2       0.388   9.0  36.0    0.250  15.0  18.0   0.833  10.0  40.0  50.0   \n",
              "3       0.380   3.0  18.0    0.167  29.0  36.0   0.806  12.0  43.0  55.0   \n",
              "4       0.443   5.0  13.0    0.385  14.0  22.0   0.636   8.0  32.0  40.0   \n",
              "...       ...   ...   ...      ...   ...   ...     ...   ...   ...   ...   \n",
              "25998   0.432  11.0  24.0    0.458  13.0  23.0   0.565  13.0  31.0  44.0   \n",
              "25999   0.412   5.0  25.0    0.200  19.0  28.0   0.679   7.0  34.0  41.0   \n",
              "26000   0.483   9.0  32.0    0.281  18.0  23.0   0.783   9.0  42.0  51.0   \n",
              "26001   0.558  19.0  37.0    0.514  17.0  20.0   0.850   8.0  44.0  52.0   \n",
              "26002   0.382   9.0  41.0    0.220  15.0  19.0   0.789   9.0  24.0  33.0   \n",
              "\n",
              "        AST   STL  BLK   TOV    PF    PTS     G    FGM_avg    FGA_avg  \\\n",
              "0      11.0   6.0  3.0   8.0  30.0   97.0   2.0  43.000000  89.000000   \n",
              "1      16.0   4.0  5.0   7.0  30.0   94.0   2.0  33.000000  77.000000   \n",
              "2      20.0   5.0  7.0  17.0  28.0  100.0   2.0  33.000000  87.000000   \n",
              "3      18.0   8.0  6.0  15.0  19.0  102.0   2.0  23.000000  74.000000   \n",
              "4      19.0   5.0  5.0  14.0  23.0   89.0   2.0  39.000000  84.000000   \n",
              "...     ...   ...  ...   ...   ...    ...   ...        ...        ...   \n",
              "25998  16.0  13.0  2.0  17.0  19.0  100.0  43.0  38.904762  85.857143   \n",
              "25999  20.0   3.0  2.0  11.0  18.0   94.0  43.0  41.642857  86.357143   \n",
              "26000  30.0   7.0  6.0  10.0  24.0  111.0  41.0  42.825000  87.425000   \n",
              "26001  23.0   4.0  3.0  10.0  17.0  132.0  41.0  40.400000  86.125000   \n",
              "26002  17.0   7.0  3.0   6.0  17.0   92.0  42.0  40.512195  90.634146   \n",
              "\n",
              "       FG_PCT_avg   FG3M_avg   FG3A_avg  FG3_PCT_avg    FTM_avg    FTA_avg  \\\n",
              "0        0.483000   5.000000  13.000000     0.385000  23.000000  30.000000   \n",
              "1        0.429000  10.000000  21.000000     0.476000  20.000000  22.000000   \n",
              "2        0.379000  10.000000  39.000000     0.256000  17.000000  21.000000   \n",
              "3        0.311000   0.000000  10.000000     0.000000  13.000000  25.000000   \n",
              "4        0.464000   4.000000  13.000000     0.308000  20.000000  24.000000   \n",
              "...           ...        ...        ...          ...        ...        ...   \n",
              "25998    0.453810  10.619048  28.547619     0.372310  16.404762  21.285714   \n",
              "25999    0.482976  10.690476  30.285714     0.352738  17.476190  23.285714   \n",
              "26000    0.491025  13.325000  34.450000     0.388125  15.200000  18.325000   \n",
              "26001    0.469075  13.550000  37.750000     0.354825  17.225000  21.925000   \n",
              "26002    0.448146  16.292683  42.487805     0.382634  17.707317  21.195122   \n",
              "\n",
              "       FT_PCT_avg   OREB_avg   DREB_avg    REB_avg    AST_avg   STL_avg  \\\n",
              "0        0.767000  14.000000  28.000000  42.000000  22.000000  5.000000   \n",
              "1        0.909000  12.000000  39.000000  51.000000  23.000000  9.000000   \n",
              "2        0.810000  12.000000  27.000000  39.000000  19.000000  8.000000   \n",
              "3        0.520000  14.000000  32.000000  46.000000  10.000000  6.000000   \n",
              "4        0.833000   9.000000  37.000000  46.000000  19.000000  6.000000   \n",
              "...           ...        ...        ...        ...        ...       ...   \n",
              "25998    0.765452  10.309524  35.738095  46.047619  21.047619  6.785714   \n",
              "25999    0.750976   9.880952  35.523810  45.404762  24.476190  7.238095   \n",
              "26000    0.828075   8.150000  35.050000  43.200000  27.275000  6.600000   \n",
              "26001    0.786900   8.200000  34.500000  42.700000  22.675000  6.275000   \n",
              "26002    0.832683  10.560976  33.170732  43.731707  19.975610  7.121951   \n",
              "\n",
              "         BLK_avg    TOV_avg     PF_avg     PTS_avg  prediction  opp_score  \\\n",
              "0       6.000000  13.000000  25.000000  114.000000           0         94   \n",
              "1      12.000000  26.000000  27.000000   96.000000           1         86   \n",
              "2       3.000000  13.000000  17.000000   93.000000           0        102   \n",
              "3       4.000000  18.000000  23.000000   59.000000           1         89   \n",
              "4       4.000000   9.000000  29.000000  102.000000           0        100   \n",
              "...          ...        ...        ...         ...         ...        ...   \n",
              "25998   4.642857  12.714286  20.595238  104.833333           0         94   \n",
              "25999   5.666667  14.476190  18.857143  111.452381           0        111   \n",
              "26000   4.225000  13.000000  19.750000  114.175000           1        132   \n",
              "26001   4.600000  11.675000  19.825000  111.575000           1         92   \n",
              "26002   5.024390  11.195122  19.365854  115.024390           0          0   \n",
              "\n",
              "       Win?  Perc Win  Opp Pred  Log Pred  \n",
              "0         1  0.928280  0.371347         1  \n",
              "1         0  0.371347  0.928280         0  \n",
              "2         0  0.161208  0.870987         0  \n",
              "3         1  0.870987  0.161208         1  \n",
              "4         0  0.470005  0.862927         0  \n",
              "...     ...       ...       ...       ...  \n",
              "25998     0  0.449410  0.653669         0  \n",
              "25999     0  0.611696  0.637929         0  \n",
              "26000     1  0.637929  0.611696         1  \n",
              "26001     1  0.504866  0.619519         0  \n",
              "26002     0  0.619519  0.504866         1  \n",
              "\n",
              "[26003 rows x 68 columns]"
            ]
          },
          "metadata": {
            "tags": []
          },
          "execution_count": 74
        }
      ]
    },
    {
      "cell_type": "markdown",
      "metadata": {
        "id": "YjdvjskxzxeH"
      },
      "source": [
        "Random forest keeps the "
      ]
    },
    {
      "cell_type": "code",
      "metadata": {
        "id": "KnjST-anso4c"
      },
      "source": [
        ""
      ],
      "execution_count": null,
      "outputs": []
    },
    {
      "cell_type": "code",
      "metadata": {
        "id": "i9g7_Jl9zo7_"
      },
      "source": [
        ""
      ],
      "execution_count": null,
      "outputs": []
    },
    {
      "cell_type": "code",
      "metadata": {
        "id": "i_oYXOwDzsIA"
      },
      "source": [
        ""
      ],
      "execution_count": null,
      "outputs": []
    }
  ]
}