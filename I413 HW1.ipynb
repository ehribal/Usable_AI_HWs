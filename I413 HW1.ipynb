{
 "cells": [
  {
   "cell_type": "code",
   "execution_count": 1,
   "metadata": {},
   "outputs": [],
   "source": [
    "import numpy as np"
   ]
  },
  {
   "cell_type": "code",
   "execution_count": 27,
   "metadata": {},
   "outputs": [
    {
     "name": "stdout",
     "output_type": "stream",
     "text": [
      "{'the': 27, 'foolish': 1, 'lion': 13, 'and': 8, 'clever': 1, 'rabbit': 6, 'once': 1, 'upon': 1, 'a': 4, 'time': 1, 'there': 1, 'lived': 1, 'greedy': 1, 'who': 1, 'attacked': 2, 'killed': 1, 'animals': 2, 'because': 1, 'of': 4, 'which': 1, 'every': 1, 'animal': 2, 'in': 2, 'jungle': 1, 'was': 4, 'very': 1, 'afraid': 1, 'him': 4, 'one': 4, 'day': 2, 'they': 2, 'decided': 2, 'that': 2, 'each': 1, 'would': 1, 'go': 1, 'to': 9, 'per': 1, 'as': 2, 'his': 4, 'prey': 1, 'agreed': 1, 'when': 1, 'it': 1, 'rabbits': 2, 'turn': 1, 'send': 1, 'wise': 3, 'old': 2, 'he': 2, 'travelled': 1, 'slowly': 1, 'reached': 1, 'lions': 1, 'den': 1, 'before': 1, 'sunset': 1, 'furiously': 1, 'asked': 2, 'why': 1, 'are': 1, 'you': 2, 'so': 1, 'late': 1, 'answered': 1, 'group': 1, 'were': 2, 'coming': 1, 'but': 1, 'on': 2, 'their': 1, 'way': 1, 'others': 1, 'by': 1, 'another': 1, 'ferocious': 1, 'i': 1, 'managed': 1, 'escape': 1, 'came': 1, 'here': 1, 'also': 1, 'mentioned': 1, 'other': 2, 'challenging': 1, 'this': 2, 'extremely': 1, 'angry': 1, 'take': 1, 'meet': 1, 'new': 1, 'took': 1, 'deep': 1, 'well': 2, 'showed': 1, 'own': 1, 'reflection': 3, 'growled': 1, 'did': 1, 'same': 1, 'considered': 1, 'be': 1, 'enemy': 1, 'enraged': 1, 'jumped': 1, 'into': 1, 'attack': 1, 'ended': 1, 'up': 1, 'dying': 1, 'thus': 1, 'saved': 1, 'himself': 1, 'all': 1, 'forest': 1, 'moral': 1, 'story': 1, 'must': 1, 'always': 1, 'focus': 1, 'solutions': 1, 'rather': 1, 'than': 1, 'problems': 1}\n"
     ]
    }
   ],
   "source": [
    "story_file = open(\"story-4.txt\",encoding='utf-8')\n",
    "word_counter = {}\n",
    "counter = 0\n",
    "\n",
    "for line in story_file:\n",
    "    line_list = line.split()\n",
    "    for word in line_list:\n",
    "        real_word = word.lower()\n",
    "        new_word = ''.join(char for char in real_word if char.isalnum())\n",
    "        if new_word not in word_counter.keys():\n",
    "            word_counter[new_word] = 1\n",
    "        else:\n",
    "            add_value = word_counter.get(new_word)\n",
    "            add_value += 1\n",
    "            word_counter[new_word] = add_value\n",
    "print(word_counter)\n",
    "\n",
    "    \n",
    "story_file.close()"
   ]
  },
  {
   "cell_type": "code",
   "execution_count": 2,
   "metadata": {},
   "outputs": [],
   "source": [
    "##Test Code hackerrank\n",
    "b = [1,2,3,4]"
   ]
  },
  {
   "cell_type": "code",
   "execution_count": 4,
   "metadata": {},
   "outputs": [
    {
     "data": {
      "text/plain": [
       "[2, 3, 4, 1]"
      ]
     },
     "execution_count": 4,
     "metadata": {},
     "output_type": "execute_result"
    }
   ],
   "source": [
    "b[1:] + b[:1]"
   ]
  },
  {
   "cell_type": "code",
   "execution_count": 5,
   "metadata": {},
   "outputs": [
    {
     "ename": "IndexError",
     "evalue": "list index out of range",
     "output_type": "error",
     "traceback": [
      "\u001b[1;31m---------------------------------------------------------------------------\u001b[0m",
      "\u001b[1;31mIndexError\u001b[0m                                Traceback (most recent call last)",
      "\u001b[1;32m<ipython-input-5-c133823c3717>\u001b[0m in \u001b[0;36m<module>\u001b[1;34m\u001b[0m\n\u001b[1;32m----> 1\u001b[1;33m \u001b[0mb\u001b[0m\u001b[1;33m[\u001b[0m\u001b[1;36m5\u001b[0m\u001b[1;33m]\u001b[0m\u001b[1;33m\u001b[0m\u001b[1;33m\u001b[0m\u001b[0m\n\u001b[0m",
      "\u001b[1;31mIndexError\u001b[0m: list index out of range"
     ]
    }
   ],
   "source": [
    "b[5]"
   ]
  },
  {
   "cell_type": "code",
   "execution_count": 9,
   "metadata": {},
   "outputs": [],
   "source": [
    "n = 7\n",
    "def jumpingOnClouds(c):\n",
    "    end = 0\n",
    "    num_jumps = 0\n",
    "    ind_tracker = 0\n",
    "    l = n-1\n",
    "    while end == 0:\n",
    "        future = ind_tracker+2\n",
    "        if future >= l:\n",
    "            future = l\n",
    "            end += 1\n",
    "        else:\n",
    "            pass\n",
    "        try:\n",
    "            if c[future] == 0:\n",
    "                num_jumps += 1\n",
    "                ind_tracker = future\n",
    "            else:\n",
    "                num_jumps += 1\n",
    "                ind_tracker += 1\n",
    "        except:\n",
    "            pass\n",
    "    return(num_jumps)"
   ]
  },
  {
   "cell_type": "code",
   "execution_count": 10,
   "metadata": {},
   "outputs": [
    {
     "data": {
      "text/plain": [
       "4"
      ]
     },
     "execution_count": 10,
     "metadata": {},
     "output_type": "execute_result"
    }
   ],
   "source": [
    "c = [0,0,1,0,0,1,0]\n",
    "jumpingOnClouds(c)"
   ]
  },
  {
   "cell_type": "code",
   "execution_count": 8,
   "metadata": {},
   "outputs": [
    {
     "name": "stdout",
     "output_type": "stream",
     "text": [
      "2\n",
      "3\n",
      "5\n",
      "6\n",
      "8\n"
     ]
    }
   ],
   "source": [
    "end = 0\n",
    "num_jumps = 0\n",
    "ind_tracker = 0\n",
    "l = n-1\n",
    "while end == 0:\n",
    "    future = ind_tracker+2\n",
    "    print(future)\n",
    "    if future > l:\n",
    "        future = l\n",
    "        end += 1\n",
    "    else:\n",
    "        pass\n",
    "    try:\n",
    "        if c[future] == 0:\n",
    "            num_jumps += 1\n",
    "            ind_tracker = future\n",
    "        else:\n",
    "            num_jumps += 1\n",
    "            ind_tracker += 1\n",
    "    except:\n",
    "        pass"
   ]
  },
  {
   "cell_type": "code",
   "execution_count": 15,
   "metadata": {},
   "outputs": [
    {
     "data": {
      "text/plain": [
       "'abcde'"
      ]
     },
     "execution_count": 15,
     "metadata": {},
     "output_type": "execute_result"
    }
   ],
   "source": [
    "t = 'abcde'\n",
    "t"
   ]
  },
  {
   "cell_type": "code",
   "execution_count": 16,
   "metadata": {},
   "outputs": [
    {
     "data": {
      "text/plain": [
       "'abcdeabcde'"
      ]
     },
     "execution_count": 16,
     "metadata": {},
     "output_type": "execute_result"
    }
   ],
   "source": [
    "t = t+t\n",
    "t"
   ]
  },
  {
   "cell_type": "code",
   "execution_count": 30,
   "metadata": {},
   "outputs": [],
   "source": [
    "s = 'aba'\n",
    "n = 10"
   ]
  },
  {
   "cell_type": "code",
   "execution_count": 32,
   "metadata": {},
   "outputs": [
    {
     "data": {
      "text/plain": [
       "1"
      ]
     },
     "execution_count": 32,
     "metadata": {},
     "output_type": "execute_result"
    }
   ],
   "source": [
    "import math\n",
    "n % len(s)"
   ]
  },
  {
   "cell_type": "code",
   "execution_count": 21,
   "metadata": {},
   "outputs": [
    {
     "name": "stdout",
     "output_type": "stream",
     "text": [
      "abaaba\n",
      "abaabaabaaba\n",
      "abaabaaba\n",
      "6\n"
     ]
    }
   ],
   "source": [
    "string = s\n",
    "a_count = 0\n",
    "indexlen = n-1\n",
    "while len(string) < n:\n",
    "    string = string + string\n",
    "    print(string)\n",
    "new_string = string[:indexlen]\n",
    "print(new_string)\n",
    "for char in new_string:\n",
    "    if char.lower() == \"a\":\n",
    "        a_count += 1\n",
    "    else:\n",
    "        pass\n",
    "print(a_count)"
   ]
  },
  {
   "cell_type": "code",
   "execution_count": null,
   "metadata": {},
   "outputs": [],
   "source": [
    "a_count = 0\n",
    "for char in string:\n",
    "    if char.lower() == \"a\":\n",
    "        a_count += 1\n",
    "    else:\n",
    "        pass"
   ]
  }
 ],
 "metadata": {
  "kernelspec": {
   "display_name": "Python 3",
   "language": "python",
   "name": "python3"
  },
  "language_info": {
   "codemirror_mode": {
    "name": "ipython",
    "version": 3
   },
   "file_extension": ".py",
   "mimetype": "text/x-python",
   "name": "python",
   "nbconvert_exporter": "python",
   "pygments_lexer": "ipython3",
   "version": "3.8.3"
  }
 },
 "nbformat": 4,
 "nbformat_minor": 4
}
